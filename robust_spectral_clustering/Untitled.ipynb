{
 "cells": [
  {
   "cell_type": "code",
   "execution_count": 15,
   "metadata": {
    "scrolled": true
   },
   "outputs": [
    {
     "data": {
      "text/html": [
       "<div>\n",
       "<table border=\"1\" class=\"dataframe\">\n",
       "  <thead>\n",
       "    <tr style=\"text-align: right;\">\n",
       "      <th></th>\n",
       "      <th>11213962</th>\n",
       "      <th>1603589724</th>\n",
       "      <th>68746721</th>\n",
       "      <th>267765193</th>\n",
       "      <th>10985942</th>\n",
       "      <th>14009672</th>\n",
       "      <th>167346791</th>\n",
       "      <th>2896013873</th>\n",
       "      <th>17364190</th>\n",
       "      <th>31442147</th>\n",
       "      <th>...</th>\n",
       "      <th>118320586</th>\n",
       "      <th>218493756</th>\n",
       "      <th>232520574</th>\n",
       "      <th>385409365</th>\n",
       "      <th>419425806</th>\n",
       "      <th>102227818</th>\n",
       "      <th>301210136</th>\n",
       "      <th>175163526</th>\n",
       "      <th>252996913</th>\n",
       "      <th>152543735</th>\n",
       "    </tr>\n",
       "  </thead>\n",
       "  <tbody>\n",
       "    <tr>\n",
       "      <th>1</th>\n",
       "      <td>False</td>\n",
       "      <td>False</td>\n",
       "      <td>True</td>\n",
       "      <td>False</td>\n",
       "      <td>False</td>\n",
       "      <td>False</td>\n",
       "      <td>False</td>\n",
       "      <td>True</td>\n",
       "      <td>False</td>\n",
       "      <td>True</td>\n",
       "      <td>...</td>\n",
       "      <td>False</td>\n",
       "      <td>False</td>\n",
       "      <td>False</td>\n",
       "      <td>False</td>\n",
       "      <td>False</td>\n",
       "      <td>False</td>\n",
       "      <td>False</td>\n",
       "      <td>False</td>\n",
       "      <td>False</td>\n",
       "      <td>False</td>\n",
       "    </tr>\n",
       "    <tr>\n",
       "      <th>2</th>\n",
       "      <td>False</td>\n",
       "      <td>False</td>\n",
       "      <td>False</td>\n",
       "      <td>False</td>\n",
       "      <td>False</td>\n",
       "      <td>False</td>\n",
       "      <td>False</td>\n",
       "      <td>False</td>\n",
       "      <td>False</td>\n",
       "      <td>True</td>\n",
       "      <td>...</td>\n",
       "      <td>False</td>\n",
       "      <td>False</td>\n",
       "      <td>False</td>\n",
       "      <td>False</td>\n",
       "      <td>False</td>\n",
       "      <td>False</td>\n",
       "      <td>False</td>\n",
       "      <td>False</td>\n",
       "      <td>False</td>\n",
       "      <td>False</td>\n",
       "    </tr>\n",
       "    <tr>\n",
       "      <th>3</th>\n",
       "      <td>False</td>\n",
       "      <td>False</td>\n",
       "      <td>False</td>\n",
       "      <td>False</td>\n",
       "      <td>False</td>\n",
       "      <td>True</td>\n",
       "      <td>False</td>\n",
       "      <td>False</td>\n",
       "      <td>False</td>\n",
       "      <td>False</td>\n",
       "      <td>...</td>\n",
       "      <td>False</td>\n",
       "      <td>False</td>\n",
       "      <td>False</td>\n",
       "      <td>False</td>\n",
       "      <td>False</td>\n",
       "      <td>False</td>\n",
       "      <td>False</td>\n",
       "      <td>False</td>\n",
       "      <td>False</td>\n",
       "      <td>False</td>\n",
       "    </tr>\n",
       "    <tr>\n",
       "      <th>4</th>\n",
       "      <td>False</td>\n",
       "      <td>False</td>\n",
       "      <td>False</td>\n",
       "      <td>False</td>\n",
       "      <td>False</td>\n",
       "      <td>False</td>\n",
       "      <td>False</td>\n",
       "      <td>False</td>\n",
       "      <td>False</td>\n",
       "      <td>True</td>\n",
       "      <td>...</td>\n",
       "      <td>False</td>\n",
       "      <td>False</td>\n",
       "      <td>False</td>\n",
       "      <td>False</td>\n",
       "      <td>False</td>\n",
       "      <td>False</td>\n",
       "      <td>False</td>\n",
       "      <td>False</td>\n",
       "      <td>False</td>\n",
       "      <td>False</td>\n",
       "    </tr>\n",
       "    <tr>\n",
       "      <th>5</th>\n",
       "      <td>False</td>\n",
       "      <td>False</td>\n",
       "      <td>True</td>\n",
       "      <td>False</td>\n",
       "      <td>False</td>\n",
       "      <td>True</td>\n",
       "      <td>True</td>\n",
       "      <td>False</td>\n",
       "      <td>False</td>\n",
       "      <td>False</td>\n",
       "      <td>...</td>\n",
       "      <td>False</td>\n",
       "      <td>False</td>\n",
       "      <td>False</td>\n",
       "      <td>False</td>\n",
       "      <td>False</td>\n",
       "      <td>False</td>\n",
       "      <td>False</td>\n",
       "      <td>False</td>\n",
       "      <td>False</td>\n",
       "      <td>False</td>\n",
       "    </tr>\n",
       "  </tbody>\n",
       "</table>\n",
       "<p>5 rows × 120 columns</p>\n",
       "</div>"
      ],
      "text/plain": [
       "  11213962 1603589724 68746721 267765193 10985942 14009672 167346791  \\\n",
       "1    False      False     True     False    False    False     False   \n",
       "2    False      False    False     False    False    False     False   \n",
       "3    False      False    False     False    False     True     False   \n",
       "4    False      False    False     False    False    False     False   \n",
       "5    False      False     True     False    False     True      True   \n",
       "\n",
       "  2896013873 17364190 31442147    ...    118320586 218493756 232520574  \\\n",
       "1       True    False     True    ...        False     False     False   \n",
       "2      False    False     True    ...        False     False     False   \n",
       "3      False    False    False    ...        False     False     False   \n",
       "4      False    False     True    ...        False     False     False   \n",
       "5      False    False    False    ...        False     False     False   \n",
       "\n",
       "  385409365 419425806 102227818 301210136 175163526 252996913 152543735  \n",
       "1     False     False     False     False     False     False     False  \n",
       "2     False     False     False     False     False     False     False  \n",
       "3     False     False     False     False     False     False     False  \n",
       "4     False     False     False     False     False     False     False  \n",
       "5     False     False     False     False     False     False     False  \n",
       "\n",
       "[5 rows x 120 columns]"
      ]
     },
     "execution_count": 15,
     "metadata": {},
     "output_type": "execute_result"
    }
   ],
   "source": [
    "import pandas as pd\n",
    "from copy import deepcopy\n",
    "\n",
    "data = pd.read_csv(\"./data.csv\")\n",
    "uname = data[:1].get_values()[0]\n",
    "data.drop(0).head()"
   ]
  },
  {
   "cell_type": "code",
   "execution_count": 2,
   "metadata": {},
   "outputs": [
    {
     "data": {
      "image/png": "[encoded data removed]",
      "text/plain": [
       "<matplotlib.figure.Figure at 0x7fba1958c780>"
      ]
     },
     "metadata": {},
     "output_type": "display_data"
    }
   ],
   "source": [
    "X = (data.get_values()[1:]==\"True\")\n",
    "A = (X.T + X)\n",
    "\n",
    "%matplotlib inline\n",
    "import pylab as plt\n",
    "import seaborn as sns\n",
    "import numpy as np\n",
    "\n",
    "def plot_matrix(matrix, z1=None):\n",
    "    f, ax = plt.subplots(figsize=(10, 10))\n",
    "    plt.pcolor(matrix, cmap=plt.cm.Blues )\n",
    "    \n",
    "    if not z1 is None:\n",
    "        z1_diff = np.r_[[0], np.diff(z1)]\n",
    "\n",
    "        for i,c in enumerate(z1_diff):\n",
    "            if c!=0:\n",
    "                ax.axhline(i, c=\"grey\")#, linewidth=1)\n",
    "                ax.axvline(i, c=\"grey\") #, linewidth=1)\n",
    "    plt.show()\n",
    "plot_matrix(A)"
   ]
  },
  {
   "cell_type": "code",
   "execution_count": 3,
   "metadata": {
    "collapsed": true
   },
   "outputs": [],
   "source": [
    "import scipy.linalg\n",
    "from copy import deepcopy\n",
    "\n",
    "K = 10\n",
    "m = 1\n",
    "hi = K-1\n",
    "lo = 0\n",
    "θ = 40\n",
    "N = A.shape[0]"
   ]
  },
  {
   "cell_type": "code",
   "execution_count": 4,
   "metadata": {
    "collapsed": true
   },
   "outputs": [],
   "source": [
    "A = A.astype(int)\n",
    "D = np.eye(N) * A.sum(axis=0)"
   ]
  },
  {
   "cell_type": "code",
   "execution_count": 13,
   "metadata": {
    "scrolled": true
   },
   "outputs": [
    {
     "name": "stdout",
     "output_type": "stream",
     "text": [
      "29.8081930161\n",
      "33.431074866\n"
     ]
    }
   ],
   "source": [
    "Ag = deepcopy(A)\n",
    "\n",
    "last_trace = 1000000\n",
    "while True:\n",
    "    # update H\n",
    "    L = np.eye(Ag.shape[0]) * Ag.sum(axis=0) - Ag\n",
    "    λ, H = scipy.linalg.eigh(L,eigvals=(lo,hi))\n",
    "    trace = np.trace(np.matrix(H).T * np.matrix(Ag) * np.matrix(H)) #<  then break ??\n",
    "    print(trace)\n",
    "\n",
    "    if last_trace < trace:\n",
    "        break\n",
    "        print(Ag)\n",
    "    last_trace = trace\n",
    "    \n",
    "    Ag = deepcopy(A)\n",
    "    list_countᵢ = A.sum(axis=0) - m    \n",
    "    exclude_edge = np.ones(Ag.shape)\n",
    "    X = []\n",
    "    pₑ = np.array([[exclude_edge[i,j] * Ag[i,j] * np.dot(H[i] - H[j], H[i] - H[j]) for i in range(N)] for j in range(N)])\n",
    "\n",
    "    while pₑ.max() > 0:\n",
    "        pₑ = np.array([[exclude_edge[i,j] * Ag[i,j] * np.dot(H[i] - H[j], H[i] - H[j]) for i in range(N)] for j in range(N)])\n",
    "        i,j = np.unravel_index(pₑ.argmax(), pₑ.shape)\n",
    "        #print(pₑ.max())\n",
    "        #print(list_countᵢ[i], list_countᵢ[j])\n",
    "        if (list_countᵢ[i]>0) and (list_countᵢ[j]>0):\n",
    "            X.append((i,j))\n",
    "            list_countᵢ[i] = -1\n",
    "            list_countᵢ[j] = -1\n",
    "            Ag[i,j] = 0\n",
    "            Ag[j,i] = 0\n",
    "            #print(X)\n",
    "            #print(len(X))\n",
    "            if len(X) > θ:\n",
    "                break\n",
    "        else:\n",
    "            exclude_edge[i,j] = 0\n",
    "            exclude_edge[j,i] = 0\n",
    "    "
   ]
  },
  {
   "cell_type": "code",
   "execution_count": 14,
   "metadata": {},
   "outputs": [
    {
     "data": {
      "image/png": "[encoded data removed]",
      "text/plain": [
       "<matplotlib.figure.Figure at 0x7fba0b6395f8>"
      ]
     },
     "metadata": {},
     "output_type": "display_data"
    }
   ],
   "source": [
    "plot_matrix(A-Ag)"
   ]
  },
  {
   "cell_type": "code",
   "execution_count": 10,
   "metadata": {
    "collapsed": true
   },
   "outputs": [],
   "source": [
    "from sklearn.cluster import KMeans\n",
    "def kmeans(eigen_vector, unames, n_clusters):\n",
    "    kmean = KMeans(n_clusters=n_clusters)\n",
    "    clusters = kmean.fit_predict(eigen_vector)\n",
    "    cluster_uname = list(zip(clusters, uname))\n",
    "    cluster_uname.sort(key=lambda x:x[0])\n",
    "    # print(cluster_uname)\n",
    "    return clusters\n",
    "\n",
    "def sort_by_cluster(matrix, clusters):\n",
    "    sorted_mat = list(zip(clusters, matrix))\n",
    "    sorted_mat.sort(key=lambda x:x[0])\n",
    "    _,sorted_mat = list(zip(*sorted_mat))\n",
    "    \n",
    "    sorted_mat = list(zip(clusters, np.array(sorted_mat).T))\n",
    "    sorted_mat.sort(key=lambda x:x[0])\n",
    "    sorted_clusters,sorted_mat = zip(*sorted_mat)\n",
    "    return np.array(sorted_mat).T, sorted_clusters"
   ]
  },
  {
   "cell_type": "code",
   "execution_count": 11,
   "metadata": {},
   "outputs": [
    {
     "data": {
      "image/png": "[encoded data removed]",
      "text/plain": [
       "<matplotlib.figure.Figure at 0x7fb9f98bfe10>"
      ]
     },
     "metadata": {},
     "output_type": "display_data"
    }
   ],
   "source": [
    "clusters = kmeans(H, uname, K)\n",
    "plot_matrix(*sort_by_cluster(Ag, clusters))"
   ]
  },
  {
   "cell_type": "code",
   "execution_count": null,
   "metadata": {
    "collapsed": true
   },
   "outputs": [],
   "source": []
  },
  {
   "cell_type": "code",
   "execution_count": null,
   "metadata": {
    "collapsed": true
   },
   "outputs": [],
   "source": []
  }
 ],
 "metadata": {
  "anaconda-cloud": {},
  "kernelspec": {
   "display_name": "Python [conda env:edward]",
   "language": "python",
   "name": "conda-env-edward-py"
  },
  "language_info": {
   "codemirror_mode": {
    "name": "ipython",
    "version": 3
   },
   "file_extension": ".py",
   "mimetype": "text/x-python",
   "name": "python",
   "nbconvert_exporter": "python",
   "pygments_lexer": "ipython3",
   "version": "3.5.2"
  }
 },
 "nbformat": 4,
 "nbformat_minor": 1
}
