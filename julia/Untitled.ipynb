{
 "cells": [
  {
   "cell_type": "markdown",
   "metadata": {},
   "source": [
    "https://docs.julialang.org/en/release-0.4/manual/unicode-input/\n",
    "\n",
    "## DTW\n"
   ]
  },
  {
   "cell_type": "code",
   "execution_count": 13,
   "metadata": {},
   "outputs": [
    {
     "name": "stderr",
     "output_type": "stream",
     "text": [
      "WARNING: Method definition δ(Any, Any) in module Main at In[10]:1 overwritten at In[13]:1.\n",
      "WARNING: Method definition second(Any) in module Main at In[10]:3 overwritten at In[13]:3.\n",
      "WARNING: Method definition minVal(Any, Any, Any) in module Main at In[10]:7 overwritten at In[13]:7.\n",
      "WARNING: Method definition DTW(Any, Any) in module Main at In[10]:17 overwritten at In[13]:17.\n"
     ]
    },
    {
     "data": {
      "text/plain": [
       "DTW (generic function with 1 method)"
      ]
     },
     "execution_count": 13,
     "metadata": {},
     "output_type": "execute_result"
    }
   ],
   "source": [
    "δ(a,b) = (a - b)^2\n",
    "# first(x) = x[1] firstは元からあるのでいらない\n",
    "second(x) = x[2]\n",
    "\n",
    "function minVal(v₁, v₂, v₃)\n",
    "#    if first(v₁) ≦ minimum([first(v₂), first(v₃)])\n",
    "    if first(v₁) <= minimum([first(v₂), first(v₃)])\n",
    "        return v₁, 1\n",
    "    elseif first(v₂) <= first(v₃)\n",
    "        return v₂, 2\n",
    "    else\n",
    "        return v₃, 3\n",
    "    end\n",
    "end\n",
    "\n",
    "function DTW(A, B)\n",
    "    S = length(A)\n",
    "    T = length(B)\n",
    "    m = Matrix(S, T)\n",
    "    m[1, 1] = [δ(A[1], B[1]), (0,0)]\n",
    "    for i in 2:S\n",
    "        m[i,1] = [m[i-1, 1][1] + δ(A[i], B[1]), [i-1, 1]]\n",
    "    end\n",
    "    for j in 2:T\n",
    "        m[1,j] = [m[1, j-1][1] + δ(A[1], B[j]), [1, j-1]]\n",
    "    end\n",
    "    for i in 2:S\n",
    "        for j in 2:T\n",
    "            min, index = minVal(m[i-1,j], m[i,j-1], m[i-1,j-1])\n",
    "            indexes = [[i-1, j], [i, j-1], [i-1, j-1]]\n",
    "            m[i,j] = first(min) + δ(A[i],B[j]), indexes[index]\n",
    "        end\n",
    "    end\n",
    "    return m\n",
    "end"
   ]
  },
  {
   "cell_type": "code",
   "execution_count": 24,
   "metadata": {},
   "outputs": [
    {
     "data": {
      "text/plain": [
       "150-element Array{Int64,1}:\n",
       " 0\n",
       " 0\n",
       " 0\n",
       " 0\n",
       " 0\n",
       " 0\n",
       " 0\n",
       " 0\n",
       " 0\n",
       " 0\n",
       " 0\n",
       " 0\n",
       " 0\n",
       " ⋮\n",
       " 0\n",
       " 0\n",
       " 0\n",
       " 0\n",
       " 0\n",
       " 0\n",
       " 0\n",
       " 0\n",
       " 0\n",
       " 0\n",
       " 0\n",
       " 0"
      ]
     },
     "execution_count": 24,
     "metadata": {},
     "output_type": "execute_result"
    }
   ],
   "source": [
    "T = 150\n",
    "A = sin((1:T)/10)\n",
    "B = sin((1:T)/10 + pi*0.4)\n",
    "C = [0 for i in 1:T]"
   ]
  },
  {
   "cell_type": "code",
   "execution_count": 46,
   "metadata": {},
   "outputs": [
    {
     "data": {
      "text/plain": [
       "(9.3585894670215,[150,149])"
      ]
     },
     "execution_count": 46,
     "metadata": {},
     "output_type": "execute_result"
    }
   ],
   "source": [
    "m = DTW(A, B)[150,150]"
   ]
  },
  {
   "cell_type": "code",
   "execution_count": 26,
   "metadata": {},
   "outputs": [
    {
     "data": {
      "text/plain": [
       "77.67327710659531"
      ]
     },
     "execution_count": 26,
     "metadata": {},
     "output_type": "execute_result"
    }
   ],
   "source": [
    "DTW(A, C)[150,150][1]"
   ]
  },
  {
   "cell_type": "markdown",
   "metadata": {},
   "source": [
    "## Stochastic Block Model"
   ]
  },
  {
   "cell_type": "code",
   "execution_count": 4,
   "metadata": {},
   "outputs": [
    {
     "name": "stderr",
     "output_type": "stream",
     "text": [
      "WARNING: Method definition m(Any) in module Main at In[3]:5 overwritten at In[4]:5.\n"
     ]
    },
    {
     "data": {
      "text/plain": [
       "onehot (generic function with 1 method)"
      ]
     },
     "execution_count": 4,
     "metadata": {},
     "output_type": "execute_result"
    }
   ],
   "source": [
    "K = 8\n",
    "α = 6\n",
    "a₀ = b₀ = 0.5\n",
    "\n",
    "m(z) = sum(z, 1)\n",
    "α₁ = α₂ = ones(K,K) * α\n",
    "\n",
    "function onehot(i, K)\n",
    "    ret = zeros(K)\n",
    "    ret[i] = 1\n",
    "    return ret\n",
    "end"
   ]
  },
  {
   "cell_type": "code",
   "execution_count": 15,
   "metadata": {},
   "outputs": [
    {
     "data": {
      "text/plain": [
       "(2,2)"
      ]
     },
     "execution_count": 15,
     "metadata": {},
     "output_type": "execute_result"
    }
   ],
   "source": [
    "A = Matrix(2,2)\n",
    "size(A)"
   ]
  },
  {
   "cell_type": "code",
   "execution_count": null,
   "metadata": {
    "collapsed": true
   },
   "outputs": [],
   "source": [
    "function update_z₁(X, z₁, z₂, i)\n",
    "    N₁, N₂ = size(X)\n",
    "    m₁ = m(z₁)\n",
    "    m₂ = m(z₂)\n",
    "    \n",
    "    n⁺ = "
   ]
  }
 ],
 "metadata": {
  "anaconda-cloud": {},
  "kernelspec": {
   "display_name": "Julia 0.5.2",
   "language": "julia",
   "name": "julia-0.5"
  },
  "language_info": {
   "file_extension": ".jl",
   "mimetype": "application/julia",
   "name": "julia",
   "version": "0.5.2"
  }
 },
 "nbformat": 4,
 "nbformat_minor": 1
}
