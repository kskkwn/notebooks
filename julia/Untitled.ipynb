{
 "cells": [
  {
   "cell_type": "markdown",
   "metadata": {},
   "source": [
    "この記事は[Julia Advent Calendar 2017](https://qiita.com/advent-calendar/2017/julialang)の17日目の記事です．\n",
    "普段はpythonばかり書いていて，juliaは最近文法覚えてきたかなレベルなので色々許してください．\n",
    "\n",
    "## 式or擬似コードに可能な限り近いプログラム\n",
    "\n",
    "- 自分で解いた数式を実装するとき\n",
    "- 論文に書いてある擬似コードを実装するとき\n",
    "\n",
    "式or擬似コードに可能な限り近いプログラムを書くようにしている．\n",
    "ここで\"可能な限り近い\"とは，関数の名前とかを合わせるとかだけでなく，$\\alpha$などunicode文字をバンバン使うことを意味する．このようなプログラムを書くことで，\n",
    "\n",
    "- デバッグがしやすい\n",
    "- 頭を使わなくてもプログラミングできる\n",
    "\n",
    "という利点がある．\n",
    "\n",
    "例えば[No-U-Turn Sampler Hoffman+, 2011](https://arxiv.org/abs/1111.4246)の擬似コード(の一部，論文より引用)は\n",
    "\n",
    "[f:id:ksknw:20171130224045p:plain]\n",
    "\n",
    "これに対して書いたpythonコードは以下．\n",
    "\n",
    "```python\n",
    "def BuildTree(θ, r, u, v, j, ε):\n",
    "    if j == 0:\n",
    "        θd, rd = Leapfrog(x, θ, r, v * ε)\n",
    "        if np.log(u) <= (L(*θd) - 0.5 * np.dot(rd, rd)):\n",
    "            Cd_ = [[θd, rd]]\n",
    "        else:\n",
    "            Cd_ = []\n",
    "        sd = int(np.log(u) < (Δ_max + L(*θd) - 0.5 * np.dot(rd, rd)))\n",
    "        return θd, rd, θd, rd, Cd_, sd\n",
    "    else:\n",
    "        θ_minus, r_minus, θ_plus, r_plus, Cd_, sd = BuildTree(θ, r, u, v, j - 1, ε)\n",
    "        if v == -1:\n",
    "            θ_minus, r_minus, _, _, Cdd_, sdd = BuildTree(θ_minus, r_minus, u, v, j - 1, ε)\n",
    "        else:\n",
    "            _, _, θ_plus, r_plus, Cdd_, sdd = BuildTree(θ_plus, r_plus, u, v, j - 1, ε)\n",
    "        sd = sdd * sd * int((np.dot(θ_plus - θ_minus, r_minus) >= 0) and (np.dot(θ_plus - θ_minus, r_plus) >= 0))\n",
    "        Cd_.extend(Cdd_)\n",
    "\n",
    "        return θ_minus, r_minus, θ_plus, r_plus, Cd_, sd\n",
    "```\n",
    "\n",
    "pythonではある程度unicodeを変数に使うことができ，例えばギリシャ文字などは全て思うように書ける．\n",
    "しかし，一部の例えば$\\theta ^+$や$\\nabla$などの記号は使うことができないため，微妙に見難い感じになってしまっていた．\n",
    "(あとpythonはまじで遅い)\n",
    "\n",
    "探してみるとjuliaで同じことをしている人がすでにいて，こちらのほうがだいぶ良さそうだった．\n",
    "\n",
    "[http://bicycle1885.hatenablog.com/entry/2014/12/05/011256:embed:cite]\n",
    "\n",
    "juliaでは↑であげたような文字に加えて$\\hat$みたいな修飾文字も[変数名に使えるらしい](https://docs.julialang.org/en/release-0.4/manual/unicode-input/)．\n",
    "さらに不等号の$\\le$とかが定義されていて使えるらしい．\n",
    "juliaすごい．あとなんか速いらしい．pythonには実装されていない()多重入れ子なfor文も使っていいらしい．\n",
    "\n",
    "ということで以下では練習がてら，これまでpythonで実装したコードをjuliaで書きなおしてみて，数式/擬似コードの再現度と実行速度を比較する．\n",
    "\n",
    "NUTSはもういいかなって感じなので\n",
    "\n",
    "- Dynamic Time Warping\n",
    "- Stochastic Block Model\n",
    "\n",
    "について実装する．\n",
    "\n",
    "## Dynamic Time Warping\n",
    "[http://ksknw.hatenablog.com/entry/2017/03/26/234048:embed:cite]\n",
    "\n",
    "Dynamic Time Warping (DTW) は，２つの連続値系列データのいい感じの距離を求めるアルゴリズム．\n",
    "動的計画法で解く．\n",
    "\n",
    "(DTW自体の論文ではないけど) [A global averaging method for dynamic time warping, with applications to clustering](http://www.francois-petitjean.com/Research/Petitjean2011-PR.pdf)\n",
    "の擬似コードを参考にしてプログラムを書く．\n",
    "擬似コードは以下．\n",
    "\n",
    "[f:id:ksknw:20171130230716p:plain]\n",
    "\n",
    "[f:id:ksknw:20171130230720p:plain]\n",
    "\n",
    "ただしこの擬似コードは多分間違っているので，m[i,j]の遷移前のインデックスをsecondに入れるように変えた．\n",
    "\n",
    "\n",
    "### python\n",
    "\n",
    "```python\n",
    "δ = lambda a,b: (a - b)**2\n",
    "first = lambda x: x[0]\n",
    "second = lambda x: x[1]\n",
    "\n",
    "def minVal(v1, v2, v3):\n",
    "    if first(v1) <= min(first(v2), first(v3)):\n",
    "        return v1, 0\n",
    "    elif first(v2) <= first(v3):\n",
    "        return v2, 1\n",
    "    else:\n",
    "        return v3, 2 \n",
    "\n",
    "def dtw(A, B):\n",
    "    S = len(A)\n",
    "    T = len(B)\n",
    "\n",
    "    m = [[0 for j in range(T)] for i in range(S)]\n",
    "    m[0][0] = (δ(A[0],B[0]), (-1,-1))\n",
    "    for i in range(1,S):\n",
    "        m[i][0] = (m[i-1][0][0] + δ(A[i], B[0]), (i-1,0))\n",
    "    for j in range(1,T):\n",
    "        m[0][j] = (m[0][j-1][0] + δ(A[0], B[j]), (0,j-1))\n",
    "\n",
    "    for i in range(1,S):\n",
    "        for j in range(1,T):\n",
    "            minimum, index = minVal(m[i-1][j], m[i][j-1], m[i-1][j-1])\n",
    "            indexes = [(i-1,j), (i,j-1), (i-1,j-1)]\n",
    "            m[i][j] = (first(minimum)+δ(A[i], B[j]), indexes[index])\n",
    "    return m\n",
    "```\n",
    "\n",
    "擬似コードや数式ではインデックスを1から始めることが多いが，pythonは0からなので，頭の中でインデックスをずらしながらプログラムを書く必要がある．\n",
    "それ以外は割とそのまま書けた．\n",
    "\n",
    "\n",
    "### julia\n",
    "\n",
    "```julia\n",
    "δ(a,b) = (a - b)^2\n",
    "# first(x) = x[1] firstは元からあるのでいらない\n",
    "second(x) = x[2]\n",
    "\n",
    "function minVal(v₁, v₂, v₃)\n",
    "#    if first(v₁) ≦ minimum([first(v₂), first(v₃)])\n",
    "    if first(v₁) <= minimum([first(v₂), first(v₃)])\n",
    "        return v₁, 1\n",
    "    elseif first(v₂) <= first(v₃)\n",
    "        return v₂, 2\n",
    "    else\n",
    "        return v₃, 3\n",
    "    end\n",
    "end\n",
    "\n",
    "function DTW(A, B)\n",
    "    S = length(A)\n",
    "    T = length(B)\n",
    "    m = Matrix(S, T)\n",
    "    m[1, 1] = [δ(A[1], B[1]), (0,0)]\n",
    "    for i in 2:S\n",
    "        m[i,1] = [m[i-1, 1][1] + δ(A[i], B[1]), [i-1, 1]]\n",
    "    end\n",
    "    for j in 2:T\n",
    "        m[1,j] = [m[1, j-1][1] + δ(A[1], B[j]), [1, j-1]]\n",
    "    end\n",
    "    for i in 2:S\n",
    "        for j in 2:T\n",
    "            min, index = minVal(m[i-1,j], m[i,j-1], m[i-1,j-1])\n",
    "            indexes = [[i-1, j], [i, j-1], [i-1, j-1]]\n",
    "            m[i,j] = first(min) + δ(A[i],B[j]), indexes[index]\n",
    "        end\n",
    "    end\n",
    "    return m\n",
    "end\n",
    "```\n",
    "\n",
    "endがある分pythonより長いけどだいたい同じ感じ．\n",
    "実際に書いてみるとわかるけど，インデックスが擬似コードと同じなのは結構大事で，全然頭を使わずにそのまま書けた．\n",
    "\n",
    "\n"
   ]
  },
  {
   "cell_type": "markdown",
   "metadata": {},
   "source": [
    "## Stochastic Block Model"
   ]
  },
  {
   "cell_type": "code",
   "execution_count": 2,
   "metadata": {},
   "outputs": [
    {
     "name": "stderr",
     "output_type": "stream",
     "text": [
      "WARNING: Method definition describe(AbstractArray) in module StatsBase at /home/kei/.julia/v0.5/StatsBase/src/scalarstats.jl:560 overwritten in module DataFrames at /home/kei/.julia/v0.5/DataFrames/src/abstractdataframe/abstractdataframe.jl:407.\n"
     ]
    }
   ],
   "source": [
    "using Einsum\n",
    "using DataFrames\n",
    "using CSV\n",
    "using StatsBase"
   ]
  },
  {
   "cell_type": "code",
   "execution_count": 3,
   "metadata": {},
   "outputs": [
    {
     "data": {
      "text/plain": [
       "lgamma (generic function with 13 methods)"
      ]
     },
     "execution_count": 3,
     "metadata": {},
     "output_type": "execute_result"
    }
   ],
   "source": [
    "K = 8\n",
    "α = 6\n",
    "a₀ = b₀ = 0.5\n",
    "\n",
    "α₁ = transpose(ones(K) * α) # =α₂ \n",
    "logΓ = lgamma"
   ]
  },
  {
   "cell_type": "code",
   "execution_count": 4,
   "metadata": {},
   "outputs": [
    {
     "data": {
      "text/plain": [
       "m (generic function with 1 method)"
      ]
     },
     "execution_count": 4,
     "metadata": {},
     "output_type": "execute_result"
    }
   ],
   "source": [
    "function onehot(i, K)\n",
    "    ret = zeros(K)\n",
    "    ret[i] = 1\n",
    "    return ret\n",
    "end\n",
    "\n",
    "function m(x)\n",
    "    return sum(x,1)\n",
    "end"
   ]
  },
  {
   "cell_type": "code",
   "execution_count": 4,
   "metadata": {},
   "outputs": [
    {
     "ename": "LoadError",
     "evalue": "UndefVarError: 𝕀 not defined",
     "output_type": "error",
     "traceback": [
      "UndefVarError: 𝕀 not defined",
      "",
      " in include_string(::String, ::String) at ./loading.jl:441"
     ]
    }
   ],
   "source": [
    "# 𝕀 # \\BbbI "
   ]
  },
  {
   "cell_type": "code",
   "execution_count": 36,
   "metadata": {},
   "outputs": [
    {
     "name": "stderr",
     "output_type": "stream",
     "text": [
      "WARNING: Method definition update_z₁(Any, Any, Any) in module Main at In[34]:2 overwritten at In[36]:2.\n"
     ]
    },
    {
     "data": {
      "text/plain": [
       "update_z₁ (generic function with 1 method)"
      ]
     },
     "execution_count": 36,
     "metadata": {},
     "output_type": "execute_result"
    }
   ],
   "source": [
    "function update_z₁(X, 𝕀z₁, 𝕀z₂)\n",
    "    N₁, N₂ = size(X)\n",
    "    m₁ = m(𝕀z₁)\n",
    "    \n",
    "    for i in 1:N₁\n",
    "        @einsum n⁺[k,l] := X[i,j] * 𝕀z₁[i,k] * 𝕀z₂[j,l]\n",
    "        @einsum n⁻[k,l] := (ones(X)[i,j] - X[i,j]) * 𝕀z₁[i,k] * 𝕀z₂[j,l]\n",
    "    \n",
    "        m̂₁ = m(𝕀z₁) - transpose(𝕀z₁[i,:])\n",
    "        @einsum Σ⁺x𝕀z₂[i,l] := X[i,j] * 𝕀z₂[j,l]\n",
    "        @einsum Σ⁻x𝕀z₂[i,l] := (ones(X)[i,j] - X[i,j]) * 𝕀z₂[j,l]\n",
    "        @einsum n̂⁺[k,l] := n⁺[k,l] - 𝕀z₁[i,k] * Σ⁺x𝕀z₂[i,l]\n",
    "        @einsum n̂⁻[k,l] := n⁻[k,l] - 𝕀z₁[i,k] * Σ⁻x𝕀z₂[i,l]\n",
    "        \n",
    "        α̂₁ = α₁ + m̂₁\n",
    "        â = a₀ + n̂⁺\n",
    "        b̂ = b₀ + n̂⁻\n",
    "        \n",
    "        temp⁺ = zeros(â)\n",
    "        temp⁻ = zeros(â)\n",
    "        temp = zeros(â)\n",
    "        for j in 1:size(temp⁺)[1]\n",
    "            temp⁺[j,:] = Σ⁺x𝕀z₂[i,:]\n",
    "            temp⁻[j,:] = Σ⁻x𝕀z₂[i,:]\n",
    "            temp[j,:] = sum(𝕀z₂,1)\n",
    "        end\n",
    "        \n",
    "        @einsum p_z₁[k,l] := exp(logΓ(â + b̂)-logΓ(â)-logΓ(b̂) \n",
    "            + logΓ(â+temp⁺)+logΓ(b̂+temp⁻)-logΓ(â+b̂+temp))[k,l]\n",
    "        p_z₁ = α̂₁ .* transpose(prod(p_z₁, 2))\n",
    "        p_z₁ /= sum(p_z₁)\n",
    "        \n",
    "        𝕀z₁[i,:] = onehot(sample(1:K, Weights(p_z₁[:])), K)\n",
    "    end\n",
    "    return 𝕀z₁\n",
    "end"
   ]
  },
  {
   "cell_type": "code",
   "execution_count": 13,
   "metadata": {},
   "outputs": [
    {
     "name": "stderr",
     "output_type": "stream",
     "text": [
      "WARNING: Method definition update_z₁(Any, Any, Any) in module Main at In[11]:2 overwritten at In[13]:2.\n"
     ]
    },
    {
     "data": {
      "text/plain": [
       "update_z₁ (generic function with 1 method)"
      ]
     },
     "execution_count": 13,
     "metadata": {},
     "output_type": "execute_result"
    }
   ],
   "source": [
    "function update_z₁(X, 𝕀z₁, 𝕀z₂)\n",
    "    N₁, N₂ = size(X)\n",
    "    m₁ = m(𝕀z₁)\n",
    "    \n",
    "    for i in 1:N₁\n",
    "        m̂₁ = m(𝕀z₁) - transpose(𝕀z₁[i,:])      \n",
    "        n⁺ = zeros(K, K)\n",
    "        n⁻ = zeros(K, K)\n",
    "\n",
    "        Σ⁺x𝕀z₂ = zeros(K)\n",
    "        Σ⁻x𝕀z₂ = zeros(K)\n",
    "        for l in 1:K\n",
    "            for j in 1:N₂\n",
    "                Σ⁺x𝕀z₂[l] += X[i,j] * 𝕀z₂[j,l]\n",
    "                Σ⁻x𝕀z₂[l] += (1 - X[i,j]) * 𝕀z₂[j,l]\n",
    "                for k in 1:K\n",
    "                    n⁺[k,l] += 𝕀z₁[i,k] * X[i,j] *  𝕀z₂[j,l]\n",
    "                    n⁻[k,l] += (1 - X[i,j]) * 𝕀z₁[i,k] * 𝕀z₂[j,l]\n",
    "                end\n",
    "            end\n",
    "        end\n",
    "\n",
    "        n̂⁺ = zeros(K,K)\n",
    "        n̂⁻ = zeros(K,K) \n",
    "        for k in 1:K\n",
    "            for l in 1:K\n",
    "                n̂⁺[k,l] += n⁺[k,l] - 𝕀z₁[i,k] * Σ⁺x𝕀z₂[l]\n",
    "                n̂⁻[k,l] += n⁻[k,l] - 𝕀z₁[i,k] * Σ⁻x𝕀z₂[l]\n",
    "            end\n",
    "        end\n",
    "        α̂₁ = α₁ + m̂₁\n",
    "        â = a₀ + n̂⁺\n",
    "        b̂ = b₀ + n̂⁻\n",
    "        \n",
    "        p_z₁ = α̂₁ \n",
    "        for k in 1:K\n",
    "            for l in 1:K\n",
    "                p_z₁[k] *= exp(logΓ(â[k,l] + b̂[k,l])-logΓ(â[k,l])-logΓ(b̂[k,l]) \\\n",
    "                    + logΓ(â[k,l]+Σ⁺x𝕀z₂[l])+logΓ(b̂[k,l]+Σ⁻x𝕀z₂[l])-logΓ(â[k,l]+b̂[k,l]+sum(𝕀z₂,1)[l]))\n",
    "            end\n",
    "        end\n",
    "        p_z₁ /= sum(p_z₁)\n",
    "        \n",
    "        𝕀z₁[i,:] = onehot(sample(1:K, Weights(p_z₁[:])), K)\n",
    "    end\n",
    "    return 𝕀z₁\n",
    "end"
   ]
  },
  {
   "cell_type": "code",
   "execution_count": 6,
   "metadata": {},
   "outputs": [
    {
     "data": {
      "text/plain": [
       "120×120 DataArrays.DataArray{Int64,2}:\n",
       " 0  0  1  0  0  0  0  1  0  1  1  0  0  …  0  0  0  0  0  0  0  0  0  0  0  0\n",
       " 0  0  0  0  0  0  0  0  0  1  0  1  0     0  0  0  0  0  0  0  0  0  0  0  0\n",
       " 0  0  0  0  0  1  0  0  0  0  0  0  0     0  0  0  0  0  0  0  0  0  0  0  0\n",
       " 0  0  0  0  0  0  0  0  0  1  0  0  0     0  0  0  0  0  0  0  0  0  0  0  0\n",
       " 0  0  1  0  0  1  1  0  0  0  0  0  0     0  0  0  0  0  0  0  0  0  0  0  0\n",
       " 0  0  1  0  1  0  1  0  0  0  0  0  0  …  0  0  0  0  0  0  0  0  0  0  0  0\n",
       " 0  0  0  0  1  1  0  0  0  0  0  1  0     0  0  0  0  0  0  0  0  0  0  0  0\n",
       " 1  1  0  0  0  0  0  0  0  0  0  1  0     0  0  0  0  0  0  0  0  0  0  0  0\n",
       " 0  0  0  0  0  0  0  0  0  0  0  0  0     0  0  0  0  0  0  0  0  0  0  0  0\n",
       " 0  1  0  0  0  0  0  0  0  0  0  1  0     0  0  0  0  0  0  0  0  0  0  0  0\n",
       " 1  0  0  0  0  0  0  0  1  0  0  0  0  …  0  0  0  0  0  0  0  0  0  0  0  0\n",
       " 0  1  0  0  0  0  1  1  0  1  0  0  0     0  0  0  0  0  0  0  0  0  0  0  0\n",
       " 0  0  0  0  0  0  0  0  0  0  0  0  0     0  0  0  0  0  0  0  0  0  0  0  0\n",
       " ⋮              ⋮              ⋮        ⋱        ⋮              ⋮            \n",
       " 0  0  0  0  0  0  0  0  0  0  0  0  0     0  0  0  0  0  1  0  0  0  0  0  0\n",
       " 0  0  0  0  0  0  0  0  0  0  0  0  0     0  0  0  0  0  1  0  0  0  0  0  0\n",
       " 0  0  0  0  0  0  0  0  0  0  0  0  0  …  0  0  0  0  0  0  0  1  1  1  0  0\n",
       " 0  0  0  0  0  0  0  0  0  0  0  0  0     0  0  1  0  1  0  1  1  1  1  1  0\n",
       " 0  0  0  0  0  0  0  0  0  0  0  0  0     0  0  0  1  0  0  0  1  1  1  1  0\n",
       " 0  0  0  0  0  0  0  0  0  0  0  0  0     1  1  0  0  0  0  0  0  0  0  0  0\n",
       " 0  0  0  0  0  0  0  0  0  0  0  0  0     0  0  0  1  0  0  0  1  1  1  1  0\n",
       " 0  0  0  0  0  0  0  0  0  0  0  0  0  …  0  0  1  1  1  0  0  0  1  1  1  0\n",
       " 0  0  0  0  0  0  0  0  0  0  0  0  0     0  0  1  1  1  0  1  1  0  1  1  0\n",
       " 0  0  0  0  0  0  0  0  0  0  0  0  0     0  0  1  1  1  0  1  1  1  0  1  1\n",
       " 0  0  0  0  0  0  0  0  0  0  0  0  0     0  0  0  1  1  0  1  1  1  1  0  0\n",
       " 0  0  0  0  0  0  0  0  0  0  0  0  0     0  0  0  0  0  0  0  0  0  1  0  0"
      ]
     },
     "execution_count": 6,
     "metadata": {},
     "output_type": "execute_result"
    }
   ],
   "source": [
    "data = readtable(\"./bi_data.csv\")\n",
    "X = hcat(data.columns...)"
   ]
  },
  {
   "cell_type": "code",
   "execution_count": 7,
   "metadata": {},
   "outputs": [
    {
     "data": {
      "text/plain": [
       "1"
      ]
     },
     "execution_count": 7,
     "metadata": {},
     "output_type": "execute_result"
    }
   ],
   "source": [
    "𝕀z₁ = zeros(size(X)[1],K)\n",
    "𝕀z₁[:,1] = 1\n",
    "𝕀z₂ = zeros(size(X)[1],K)\n",
    "𝕀z₂[:,1] = 1"
   ]
  },
  {
   "cell_type": "code",
   "execution_count": 22,
   "metadata": {},
   "outputs": [
    {
     "data": {
      "text/plain": [
       "120×8 Array{Float64,2}:\n",
       " 0.0  0.0  0.0  0.0  0.0  0.0  1.0  0.0\n",
       " 0.0  0.0  0.0  0.0  0.0  0.0  1.0  0.0\n",
       " 0.0  0.0  0.0  0.0  0.0  0.0  1.0  0.0\n",
       " 0.0  0.0  0.0  0.0  0.0  0.0  1.0  0.0\n",
       " 0.0  0.0  0.0  1.0  0.0  0.0  0.0  0.0\n",
       " 0.0  1.0  0.0  0.0  0.0  0.0  0.0  0.0\n",
       " 0.0  0.0  0.0  0.0  0.0  0.0  0.0  1.0\n",
       " 0.0  0.0  0.0  0.0  1.0  0.0  0.0  0.0\n",
       " 0.0  0.0  0.0  0.0  0.0  1.0  0.0  0.0\n",
       " 0.0  0.0  0.0  0.0  0.0  0.0  1.0  0.0\n",
       " 0.0  0.0  0.0  1.0  0.0  0.0  0.0  0.0\n",
       " 0.0  0.0  0.0  0.0  0.0  0.0  0.0  1.0\n",
       " 0.0  0.0  0.0  0.0  0.0  0.0  0.0  1.0\n",
       " ⋮                        ⋮            \n",
       " 0.0  0.0  1.0  0.0  0.0  0.0  0.0  0.0\n",
       " 0.0  0.0  0.0  0.0  1.0  0.0  0.0  0.0\n",
       " 0.0  0.0  0.0  0.0  0.0  0.0  0.0  1.0\n",
       " 0.0  0.0  0.0  0.0  0.0  1.0  0.0  0.0\n",
       " 0.0  0.0  0.0  0.0  0.0  1.0  0.0  0.0\n",
       " 0.0  0.0  1.0  0.0  0.0  0.0  0.0  0.0\n",
       " 1.0  0.0  0.0  0.0  0.0  0.0  0.0  0.0\n",
       " 0.0  1.0  0.0  0.0  0.0  0.0  0.0  0.0\n",
       " 0.0  1.0  0.0  0.0  0.0  0.0  0.0  0.0\n",
       " 0.0  0.0  0.0  0.0  0.0  0.0  0.0  1.0\n",
       " 1.0  0.0  0.0  0.0  0.0  0.0  0.0  0.0\n",
       " 1.0  0.0  0.0  0.0  0.0  0.0  0.0  0.0"
      ]
     },
     "execution_count": 22,
     "metadata": {},
     "output_type": "execute_result"
    }
   ],
   "source": [
    "𝕀z₁ = update_z₁(X, 𝕀z₁, 𝕀z₂)\n",
    "𝕀z₂ = update_z₁(transpose(X), 𝕀z₂, 𝕀z₁)"
   ]
  },
  {
   "cell_type": "code",
   "execution_count": 21,
   "metadata": {},
   "outputs": [
    {
     "name": "stdout",
     "output_type": "stream",
     "text": [
      "322447478825664212147437652422468834444722784825321734274164332453182257285516742713125317881145784831471727124227425134"
     ]
    }
   ],
   "source": [
    "mxval, mxindx = findmax(𝕀z₂, 2)\n",
    "for i in ind2sub(size(𝕀z₂), vec(mxindx))[2]\n",
    "    print(i)\n",
    "end"
   ]
  },
  {
   "cell_type": "markdown",
   "metadata": {},
   "source": [
    "関数直した時に，その関数を読んでる関数ももう一度実行しないといけない．"
   ]
  }
 ],
 "metadata": {
  "anaconda-cloud": {},
  "kernelspec": {
   "display_name": "Julia 0.5.2",
   "language": "julia",
   "name": "julia-0.5"
  },
  "language_info": {
   "file_extension": ".jl",
   "mimetype": "application/julia",
   "name": "julia",
   "version": "0.5.2"
  }
 },
 "nbformat": 4,
 "nbformat_minor": 1
}
