{
 "cells": [
  {
   "cell_type": "markdown",
   "metadata": {},
   "source": [
    "https://docs.julialang.org/en/release-0.4/manual/unicode-input/\n",
    "\n",
    "## DTW\n"
   ]
  },
  {
   "cell_type": "code",
   "execution_count": 1,
   "metadata": {},
   "outputs": [
    {
     "data": {
      "text/plain": [
       "DTW (generic function with 1 method)"
      ]
     },
     "execution_count": 1,
     "metadata": {},
     "output_type": "execute_result"
    }
   ],
   "source": [
    "δ(a,b) = (a - b)^2\n",
    "# first(x) = x[1] firstは元からあるのでいらない\n",
    "second(x) = x[2]\n",
    "\n",
    "function minVal(v₁, v₂, v₃)\n",
    "#    if first(v₁) ≦ minimum([first(v₂), first(v₃)])\n",
    "    if first(v₁) <= minimum([first(v₂), first(v₃)])\n",
    "        return v₁, 1\n",
    "    elseif first(v₂) <= first(v₃)\n",
    "        return v₂, 2\n",
    "    else\n",
    "        return v₃, 3\n",
    "    end\n",
    "end\n",
    "\n",
    "function DTW(A, B)\n",
    "    S = length(A)\n",
    "    T = length(B)\n",
    "    m = Matrix(S, T)\n",
    "    m[1, 1] = [δ(A[1], B[1]), (0,0)]\n",
    "    for i in 2:S\n",
    "        m[i,1] = [m[i-1, 1][1] + δ(A[i], B[1]), [i-1, 1]]\n",
    "    end\n",
    "    for j in 2:T\n",
    "        m[1,j] = [m[1, j-1][1] + δ(A[1], B[j]), [1, j-1]]\n",
    "    end\n",
    "    for i in 2:S\n",
    "        for j in 2:T\n",
    "            min, index = minVal(m[i-1,j], m[i,j-1], m[i-1,j-1])\n",
    "            indexes = [[i-1, j], [i, j-1], [i-1, j-1]]\n",
    "            m[i,j] = first(min) + δ(A[i],B[j]), indexes[index]\n",
    "        end\n",
    "    end\n",
    "    return m\n",
    "end"
   ]
  },
  {
   "cell_type": "code",
   "execution_count": 2,
   "metadata": {},
   "outputs": [
    {
     "data": {
      "text/plain": [
       "150-element Array{Int64,1}:\n",
       " 0\n",
       " 0\n",
       " 0\n",
       " 0\n",
       " 0\n",
       " 0\n",
       " 0\n",
       " 0\n",
       " 0\n",
       " 0\n",
       " 0\n",
       " 0\n",
       " 0\n",
       " ⋮\n",
       " 0\n",
       " 0\n",
       " 0\n",
       " 0\n",
       " 0\n",
       " 0\n",
       " 0\n",
       " 0\n",
       " 0\n",
       " 0\n",
       " 0\n",
       " 0"
      ]
     },
     "execution_count": 2,
     "metadata": {},
     "output_type": "execute_result"
    }
   ],
   "source": [
    "T = 150\n",
    "A = sin((1:T)/10)\n",
    "B = sin((1:T)/10 + pi*0.4)\n",
    "C = [0 for i in 1:T]"
   ]
  },
  {
   "cell_type": "code",
   "execution_count": 3,
   "metadata": {},
   "outputs": [
    {
     "data": {
      "text/plain": [
       "(9.3585894670215,[150,149])"
      ]
     },
     "execution_count": 3,
     "metadata": {},
     "output_type": "execute_result"
    }
   ],
   "source": [
    "DTW(A, B)[150,150]"
   ]
  },
  {
   "cell_type": "code",
   "execution_count": 4,
   "metadata": {},
   "outputs": [
    {
     "data": {
      "text/plain": [
       "77.67327710659531"
      ]
     },
     "execution_count": 4,
     "metadata": {},
     "output_type": "execute_result"
    }
   ],
   "source": [
    "DTW(A, C)[150,150]"
   ]
  },
  {
   "cell_type": "markdown",
   "metadata": {},
   "source": [
    "## Stochastic Block Model"
   ]
  },
  {
   "cell_type": "code",
   "execution_count": 1,
   "metadata": {},
   "outputs": [
    {
     "name": "stderr",
     "output_type": "stream",
     "text": [
      "WARNING: Method definition describe(AbstractArray) in module StatsBase at /home/kei/.julia/v0.5/StatsBase/src/scalarstats.jl:560 overwritten in module DataFrames at /home/kei/.julia/v0.5/DataFrames/src/abstractdataframe/abstractdataframe.jl:407.\n"
     ]
    }
   ],
   "source": [
    "using Einsum\n",
    "using DataFrames\n",
    "using CSV\n",
    "using StatsBase"
   ]
  },
  {
   "cell_type": "code",
   "execution_count": 2,
   "metadata": {},
   "outputs": [
    {
     "data": {
      "text/plain": [
       "lgamma (generic function with 13 methods)"
      ]
     },
     "execution_count": 2,
     "metadata": {},
     "output_type": "execute_result"
    }
   ],
   "source": [
    "K = 8\n",
    "α = 6\n",
    "a₀ = b₀ = 0.5\n",
    "\n",
    "α₁ = transpose(ones(K) * α) # =α₂ \n",
    "logΓ = lgamma"
   ]
  },
  {
   "cell_type": "code",
   "execution_count": 3,
   "metadata": {},
   "outputs": [
    {
     "data": {
      "text/plain": [
       "m (generic function with 1 method)"
      ]
     },
     "execution_count": 3,
     "metadata": {},
     "output_type": "execute_result"
    }
   ],
   "source": [
    "function onehot(i, K)\n",
    "    ret = zeros(K)\n",
    "    ret[i] = 1\n",
    "    return ret\n",
    "end\n",
    "\n",
    "function m(x)\n",
    "    return sum(x,1)\n",
    "end"
   ]
  },
  {
   "cell_type": "code",
   "execution_count": 4,
   "metadata": {},
   "outputs": [
    {
     "ename": "LoadError",
     "evalue": "UndefVarError: 𝕀 not defined",
     "output_type": "error",
     "traceback": [
      "UndefVarError: 𝕀 not defined",
      "",
      " in include_string(::String, ::String) at ./loading.jl:441"
     ]
    }
   ],
   "source": [
    "# 𝕀 # \\BbbI "
   ]
  },
  {
   "cell_type": "code",
   "execution_count": 36,
   "metadata": {},
   "outputs": [
    {
     "name": "stderr",
     "output_type": "stream",
     "text": [
      "WARNING: Method definition update_z₁(Any, Any, Any) in module Main at In[34]:2 overwritten at In[36]:2.\n"
     ]
    },
    {
     "data": {
      "text/plain": [
       "update_z₁ (generic function with 1 method)"
      ]
     },
     "execution_count": 36,
     "metadata": {},
     "output_type": "execute_result"
    }
   ],
   "source": [
    "function update_z₁(X, 𝕀z₁, 𝕀z₂)\n",
    "    N₁, N₂ = size(X)\n",
    "    m₁ = m(𝕀z₁)\n",
    "    \n",
    "    for i in 1:N₁\n",
    "        @einsum n⁺[k,l] := X[i,j] * 𝕀z₁[i,k] * 𝕀z₂[j,l]\n",
    "        @einsum n⁻[k,l] := (ones(X)[i,j] - X[i,j]) * 𝕀z₁[i,k] * 𝕀z₂[j,l]\n",
    "    \n",
    "        m̂₁ = m(𝕀z₁) - transpose(𝕀z₁[i,:])\n",
    "        @einsum Σ⁺x𝕀z₂[i,l] := X[i,j] * 𝕀z₂[j,l]\n",
    "        @einsum Σ⁻x𝕀z₂[i,l] := (ones(X)[i,j] - X[i,j]) * 𝕀z₂[j,l]\n",
    "        @einsum n̂⁺[k,l] := n⁺[k,l] - 𝕀z₁[i,k] * Σ⁺x𝕀z₂[i,l]\n",
    "        @einsum n̂⁻[k,l] := n⁻[k,l] - 𝕀z₁[i,k] * Σ⁻x𝕀z₂[i,l]\n",
    "        \n",
    "        α̂₁ = α₁ + m̂₁\n",
    "        â = a₀ + n̂⁺\n",
    "        b̂ = b₀ + n̂⁻\n",
    "        \n",
    "        temp⁺ = zeros(â)\n",
    "        temp⁻ = zeros(â)\n",
    "        temp = zeros(â)\n",
    "        for j in 1:size(temp⁺)[1]\n",
    "            temp⁺[j,:] = Σ⁺x𝕀z₂[i,:]\n",
    "            temp⁻[j,:] = Σ⁻x𝕀z₂[i,:]\n",
    "            temp[j,:] = sum(𝕀z₂,1)\n",
    "        end\n",
    "        \n",
    "        @einsum p_z₁[k,l] := exp(logΓ(â + b̂)-logΓ(â)-logΓ(b̂) \n",
    "            + logΓ(â+temp⁺)+logΓ(b̂+temp⁻)-logΓ(â+b̂+temp))[k,l]\n",
    "        p_z₁ = α̂₁ .* transpose(prod(p_z₁, 2))\n",
    "        p_z₁ /= sum(p_z₁)\n",
    "        \n",
    "        𝕀z₁[i,:] = onehot(sample(1:K, Weights(p_z₁[:])), K)\n",
    "    end\n",
    "    return 𝕀z₁\n",
    "end"
   ]
  },
  {
   "cell_type": "code",
   "execution_count": 16,
   "metadata": {},
   "outputs": [
    {
     "data": {
      "text/plain": [
       "120×120 DataArrays.DataArray{Int64,2}:\n",
       " 0  0  1  0  0  0  0  1  0  1  1  0  0  …  0  0  0  0  0  0  0  0  0  0  0  0\n",
       " 0  0  0  0  0  0  0  0  0  1  0  1  0     0  0  0  0  0  0  0  0  0  0  0  0\n",
       " 0  0  0  0  0  1  0  0  0  0  0  0  0     0  0  0  0  0  0  0  0  0  0  0  0\n",
       " 0  0  0  0  0  0  0  0  0  1  0  0  0     0  0  0  0  0  0  0  0  0  0  0  0\n",
       " 0  0  1  0  0  1  1  0  0  0  0  0  0     0  0  0  0  0  0  0  0  0  0  0  0\n",
       " 0  0  1  0  1  0  1  0  0  0  0  0  0  …  0  0  0  0  0  0  0  0  0  0  0  0\n",
       " 0  0  0  0  1  1  0  0  0  0  0  1  0     0  0  0  0  0  0  0  0  0  0  0  0\n",
       " 1  1  0  0  0  0  0  0  0  0  0  1  0     0  0  0  0  0  0  0  0  0  0  0  0\n",
       " 0  0  0  0  0  0  0  0  0  0  0  0  0     0  0  0  0  0  0  0  0  0  0  0  0\n",
       " 0  1  0  0  0  0  0  0  0  0  0  1  0     0  0  0  0  0  0  0  0  0  0  0  0\n",
       " 1  0  0  0  0  0  0  0  1  0  0  0  0  …  0  0  0  0  0  0  0  0  0  0  0  0\n",
       " 0  1  0  0  0  0  1  1  0  1  0  0  0     0  0  0  0  0  0  0  0  0  0  0  0\n",
       " 0  0  0  0  0  0  0  0  0  0  0  0  0     0  0  0  0  0  0  0  0  0  0  0  0\n",
       " ⋮              ⋮              ⋮        ⋱        ⋮              ⋮            \n",
       " 0  0  0  0  0  0  0  0  0  0  0  0  0     0  0  0  0  0  1  0  0  0  0  0  0\n",
       " 0  0  0  0  0  0  0  0  0  0  0  0  0     0  0  0  0  0  1  0  0  0  0  0  0\n",
       " 0  0  0  0  0  0  0  0  0  0  0  0  0  …  0  0  0  0  0  0  0  1  1  1  0  0\n",
       " 0  0  0  0  0  0  0  0  0  0  0  0  0     0  0  1  0  1  0  1  1  1  1  1  0\n",
       " 0  0  0  0  0  0  0  0  0  0  0  0  0     0  0  0  1  0  0  0  1  1  1  1  0\n",
       " 0  0  0  0  0  0  0  0  0  0  0  0  0     1  1  0  0  0  0  0  0  0  0  0  0\n",
       " 0  0  0  0  0  0  0  0  0  0  0  0  0     0  0  0  1  0  0  0  1  1  1  1  0\n",
       " 0  0  0  0  0  0  0  0  0  0  0  0  0  …  0  0  1  1  1  0  0  0  1  1  1  0\n",
       " 0  0  0  0  0  0  0  0  0  0  0  0  0     0  0  1  1  1  0  1  1  0  1  1  0\n",
       " 0  0  0  0  0  0  0  0  0  0  0  0  0     0  0  1  1  1  0  1  1  1  0  1  1\n",
       " 0  0  0  0  0  0  0  0  0  0  0  0  0     0  0  0  1  1  0  1  1  1  1  0  0\n",
       " 0  0  0  0  0  0  0  0  0  0  0  0  0     0  0  0  0  0  0  0  0  0  1  0  0"
      ]
     },
     "execution_count": 16,
     "metadata": {},
     "output_type": "execute_result"
    }
   ],
   "source": [
    "data = readtable(\"./bi_data.csv\")\n",
    "X = hcat(data.columns...)"
   ]
  },
  {
   "cell_type": "code",
   "execution_count": 24,
   "metadata": {},
   "outputs": [
    {
     "data": {
      "text/plain": [
       "1"
      ]
     },
     "execution_count": 24,
     "metadata": {},
     "output_type": "execute_result"
    }
   ],
   "source": [
    "𝕀z₁ = zeros(size(X)[1],K)\n",
    "𝕀z₁[:,1] = 1\n",
    "𝕀z₂ = zeros(size(X)[1],K)\n",
    "𝕀z₂[:,1] = 1"
   ]
  },
  {
   "cell_type": "code",
   "execution_count": 37,
   "metadata": {},
   "outputs": [
    {
     "name": "stdout",
     "output_type": "stream",
     "text": [
      "[37.0 0.0 0.0 0.0 0.0 0.0 0.0 0.0; 37.0 0.0 0.0 0.0 0.0 0.0 0.0 0.0; 37.0 0.0 0.0 0.0 0.0 0.0 0.0 0.0; 37.0 0.0 0.0 0.0 0.0 0.0 0.0 0.0; 37.0 0.0 0.0 0.0 0.0 0.0 0.0 0.0; 37.0 0.0 0.0 0.0 0.0 0.0 0.0 0.0; 37.0 0.0 0.0 0.0 0.0 0.0 0.0 0.0; 37.0 0.0 0.0 0.0 0.0 0.0 0.0 0.0]\n",
      "[7.0 0.0 0.0 0.0 0.0 0.0 0.0 0.0; 7.0 0.0 0.0 0.0 0.0 0.0 0.0 0.0; 7.0 0.0 0.0 0.0 0.0 0.0 0.0 0.0; 7.0 0.0 0.0 0.0 0.0 0.0 0.0 0.0; 7.0 0.0 0.0 0.0 0.0 0.0 0.0 0.0; 7.0 0.0 0.0 0.0 0.0 0.0 0.0 0.0; 7.0 0.0 0.0 0.0 0.0 0.0 0.0 0.0; 7.0 0.0 0.0 0.0 0.0 0.0 0.0 0.0]\n",
      "[6.0 0.0 0.0 0.0 0.0 0.0 0.0 0.0; 6.0 0.0 0.0 0.0 0.0 0.0 0.0 0.0; 6.0 0.0 0.0 0.0 0.0 0.0 0.0 0.0; 6.0 0.0 0.0 0.0 0.0 0.0 0.0 0.0; 6.0 0.0 0.0 0.0 0.0 0.0 0.0 0.0; 6.0 0.0 0.0 0.0 0.0 0.0 0.0 0.0; 6.0 0.0 0.0 0.0 0.0 0.0 0.0 0.0; 6.0 0.0 0.0 0.0 0.0 0.0 0.0 0.0]\n",
      "[13.0 0.0 0.0 0.0 0.0 0.0 0.0 0.0; 13.0 0.0 0.0 0.0 0.0 0.0 0.0 0.0; 13.0 0.0 0.0 0.0 0.0 0.0 0.0 0.0; 13.0 0.0 0.0 0.0 0.0 0.0 0.0 0.0; 13.0 0.0 0.0 0.0 0.0 0.0 0.0 0.0; 13.0 0.0 0.0 0.0 0.0 0.0 0.0 0.0; 13.0 0.0 0.0 0.0 0.0 0.0 0.0 0.0; 13.0 0.0 0.0 0.0 0.0 0.0 0.0 0.0]\n"
     ]
    },
    {
     "ename": "LoadError",
     "evalue": "InterruptException:",
     "output_type": "error",
     "traceback": [
      "InterruptException:",
      "",
      " in macro expansion at /home/kei/.julia/v0.5/Einsum/src/Einsum.jl:163 [inlined]",
      " in update_z₁(::DataArrays.DataArray{Int64,2}, ::Array{Float64,2}, ::Array{Float64,2}) at ./In[36]:11",
      " in include_string(::String, ::String) at ./loading.jl:441"
     ]
    }
   ],
   "source": [
    "𝕀z₁ = update_z₁(X, 𝕀z₁, 𝕀z₂)\n",
    "𝕀z₂ = update_z₁(transpose(X), 𝕀z₂, 𝕀z₁)"
   ]
  },
  {
   "cell_type": "code",
   "execution_count": 14,
   "metadata": {},
   "outputs": [
    {
     "name": "stdout",
     "output_type": "stream",
     "text": [
      "818111181818111881181115118111151881116211111171145111118151811871811111818112111111111111111111111171111141111111111111"
     ]
    }
   ],
   "source": [
    "mxval, mxindx = findmax(𝕀z₂, 2)\n",
    "for i in ind2sub(size(𝕀z₂), vec(mxindx))[2]\n",
    "    print(i)\n",
    "end"
   ]
  },
  {
   "cell_type": "markdown",
   "metadata": {},
   "source": [
    "関数直した時に，その関数を読んでる関数ももう一度実行しないといけない．"
   ]
  }
 ],
 "metadata": {
  "anaconda-cloud": {},
  "kernelspec": {
   "display_name": "Julia 0.5.2",
   "language": "julia",
   "name": "julia-0.5"
  },
  "language_info": {
   "file_extension": ".jl",
   "mimetype": "application/julia",
   "name": "julia",
   "version": "0.5.2"
  }
 },
 "nbformat": 4,
 "nbformat_minor": 1
}
