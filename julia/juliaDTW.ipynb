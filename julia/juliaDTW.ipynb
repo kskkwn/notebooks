{
 "cells": [
  {
   "cell_type": "code",
   "execution_count": 2,
   "metadata": {},
   "outputs": [
    {
     "name": "stderr",
     "output_type": "stream",
     "text": [
      "WARNING: Method definition δ(Any, Any) in module Main at In[1]:1 overwritten at In[2]:6.\n",
      "WARNING: Method definition second(Any) in module Main at In[1]:3 overwritten at In[2]:8.\n",
      "WARNING: Method definition minVal(Any, Any, Any) in module Main at In[1]:7 overwritten at In[2]:12.\n",
      "WARNING: Method definition DTW(Any, Any) in module Main at In[1]:17 overwritten at In[2]:22.\n"
     ]
    },
    {
     "data": {
      "text/plain": [
       "DTW (generic function with 1 method)"
      ]
     },
     "execution_count": 2,
     "metadata": {},
     "output_type": "execute_result"
    }
   ],
   "source": [
    "T = 150\n",
    "A = sin((1:T)/10)\n",
    "B = sin((1:T)/10 + pi*0.4)\n",
    "C = [0 for i in 1:T]\n",
    "\n",
    "δ(a,b) = (a - b)^2\n",
    "# first(x) = x[1] firstは元からあるのでいらない\n",
    "second(x) = x[2]\n",
    "\n",
    "function minVal(v₁, v₂, v₃)\n",
    "#    if first(v₁) ≦ minimum([first(v₂), first(v₃)])\n",
    "    if first(v₁) <= minimum([first(v₂), first(v₃)])\n",
    "        return v₁, 1\n",
    "    elseif first(v₂) <= first(v₃)\n",
    "        return v₂, 2\n",
    "    else\n",
    "        return v₃, 3\n",
    "    end\n",
    "end\n",
    "\n",
    "function DTW(A, B)\n",
    "    S = length(A)\n",
    "    T = length(B)\n",
    "    m = Matrix(S, T)\n",
    "    m[1, 1] = [δ(A[1], B[1]), (0,0)]\n",
    "    for i in 2:S\n",
    "        m[i,1] = [m[i-1, 1][1] + δ(A[i], B[1]), [i-1, 1]]\n",
    "    end\n",
    "    for j in 2:T\n",
    "        m[1,j] = [m[1, j-1][1] + δ(A[1], B[j]), [1, j-1]]\n",
    "    end\n",
    "    for i in 2:S\n",
    "        for j in 2:T\n",
    "            min, index = minVal(m[i-1,j], m[i,j-1], m[i-1,j-1])\n",
    "            indexes = [[i-1, j], [i, j-1], [i-1, j-1]]\n",
    "            m[i,j] = first(min) + δ(A[i],B[j]), indexes[index]\n",
    "        end\n",
    "    end\n",
    "    return m\n",
    "end"
   ]
  },
  {
   "cell_type": "code",
   "execution_count": 6,
   "metadata": {},
   "outputs": [
    {
     "name": "stdout",
     "output_type": "stream",
     "text": [
      "  0.022570 seconds (268.49 k allocations: 13.804 MB, 47.13% gc time)\n"
     ]
    },
    {
     "data": {
      "text/plain": [
       "150×150 Array{Any,2}:\n",
       " Any[0.769694,(0,0)]   Any[1.56832,[1,1]]  …  Any[73.2541,[1,149]]\n",
       " Any[1.37573,[1,1]]    (1.40144,[1,1])        (70.7245,[2,149])   \n",
       " Any[1.84036,[2,1]]    (1.8629,[2,1])         (68.9167,[3,149])   \n",
       " Any[2.1858,[3,1]]     (2.20526,[3,1])        (67.7804,[4,149])   \n",
       " Any[2.43353,[4,1]]    (2.45006,[4,1])        (67.2442,[5,149])   \n",
       " Any[2.6037,[5,1]]     (2.61744,[5,1])     …  (67.2206,[6,149])   \n",
       " Any[2.71455,[6,1]]    (2.72569,[6,1])        (67.3998,[6,149])   \n",
       " Any[2.78204,[7,1]]    (2.7908,[7,1])         (67.7409,[7,149])   \n",
       " Any[2.81961,[8,1]]    (2.82621,[8,1])        (68.1173,[8,149])   \n",
       " Any[2.83802,[9,1]]    (2.84272,[9,1])        (68.5782,[9,149])   \n",
       " Any[2.84541,[10,1]]   (2.84848,[10,1])    …  (69.1408,[10,149])  \n",
       " Any[2.84744,[11,1]]   (2.84918,[11,1])       (69.727,[11,149])   \n",
       " Any[2.84763,[12,1]]   (2.84834,[12,1])       (70.2913,[12,149])  \n",
       " ⋮                                         ⋱                      \n",
       " Any[185.667,[138,1]]  (185.668,[138,1])      (13.3039,[138,149]) \n",
       " Any[185.667,[139,1]]  (185.667,[139,1])      (13.8524,[139,149]) \n",
       " Any[185.668,[140,1]]  (185.667,[140,2])   …  (14.3787,[140,149]) \n",
       " Any[185.668,[141,1]]  (185.667,[141,2])      (14.8169,[141,149]) \n",
       " Any[185.668,[142,1]]  (185.667,[142,2])      (15.1374,[142,149]) \n",
       " Any[185.669,[143,1]]  (185.668,[143,2])      (15.3582,[143,149]) \n",
       " Any[185.67,[144,1]]   (185.672,[144,2])      (14.9831,[145,149]) \n",
       " Any[185.677,[145,1]]  (185.68,[145,1])    …  (14.0354,[146,149]) \n",
       " Any[185.694,[146,1]]  (185.699,[146,1])      (12.9509,[147,149]) \n",
       " Any[185.73,[147,1]]   (185.737,[147,1])      (11.7778,[148,149]) \n",
       " Any[185.795,[148,1]]  (185.803,[148,1])      (10.5649,[149,149]) \n",
       " Any[185.902,[149,1]]  (185.913,[149,1])      (9.35859,[150,149]) "
      ]
     },
     "execution_count": 6,
     "metadata": {},
     "output_type": "execute_result"
    }
   ],
   "source": [
    "@time begin\n",
    "    DTW(A, B)\n",
    "end"
   ]
  },
  {
   "cell_type": "code",
   "execution_count": 28,
   "metadata": {},
   "outputs": [
    {
     "ename": "LoadError",
     "evalue": "UndefVarError: statement not defined",
     "output_type": "error",
     "traceback": [
      "UndefVarError: statement not defined",
      "",
      " in include_string(::String, ::String) at ./loading.jl:441"
     ]
    }
   ],
   "source": [
    "DTW(A, C)"
   ]
  },
  {
   "cell_type": "code",
   "execution_count": null,
   "metadata": {
    "collapsed": true
   },
   "outputs": [],
   "source": []
  }
 ],
 "metadata": {
  "kernelspec": {
   "display_name": "Julia 0.5.2",
   "language": "julia",
   "name": "julia-0.5"
  },
  "language_info": {
   "file_extension": ".jl",
   "mimetype": "application/julia",
   "name": "julia",
   "version": "0.5.2"
  }
 },
 "nbformat": 4,
 "nbformat_minor": 1
}
