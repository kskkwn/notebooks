{
 "cells": [
  {
   "cell_type": "code",
   "execution_count": 1,
   "metadata": {},
   "outputs": [],
   "source": [
    "import numpy as np\n",
    "import pylab as plt"
   ]
  },
  {
   "cell_type": "code",
   "execution_count": 58,
   "metadata": {},
   "outputs": [],
   "source": [
    "def f(S):\n",
    "#    return 2*len(S) * (5 - len(S)) - len(S & set([1,3])) + 2 * len((S & set([2])))\n",
    "    return 2*len(S) * (5 - len(S)) - 8 * len(S & set([1,3])) + 16 * len((S & set([2])))"
   ]
  },
  {
   "cell_type": "code",
   "execution_count": 59,
   "metadata": {},
   "outputs": [],
   "source": [
    "def get_endpoint(L, f):\n",
    "    x = [0 for _ in L]\n",
    "    for j in range(len(L), 0, -1):\n",
    "        x[L[j-1]-1] = (f(set(L[:j])) - f(set(L[:j-1])))\n",
    "    return np.array(x)"
   ]
  },
  {
   "cell_type": "code",
   "execution_count": 60,
   "metadata": {},
   "outputs": [],
   "source": [
    "def minimum_norm(f, initial_L):\n",
    "    X = set()\n",
    "    # step0\n",
    "    hat_x = get_endpoint(initial_L, f)\n",
    "    hat_lam = np.array([1])\n",
    "    X.add(tuple(hat_x))\n",
    "    print(\"x0\", hat_x)\n",
    "    \n",
    "    while True:\n",
    "        # step1\n",
    "        print(\"step1\")\n",
    "        x = get_endpoint(np.argsort(hat_x)+1, f) # greedy algorithm for linear programming (algorithm 2.3)\n",
    "        print(\"x\", x)\n",
    "        print(\"x_indexes\", np.argsort(hat_x)+1)\n",
    "        \n",
    "        if abs((x-hat_x) @ hat_x) < 1e-10:\n",
    "            x_star = hat_x\n",
    "            S_star = np.where(hat_x<0)[0] + 1\n",
    "            return x_star, S_star\n",
    "        X.add(tuple(x))\n",
    "        hat_lam = np.r_[hat_lam, 0]\n",
    "        print(\"hat_lam\", hat_lam)\n",
    "        print(\"X\", X)\n",
    "        \n",
    "        while True:\n",
    "            # step2\n",
    "            print(\"step2\")\n",
    "            XX = np.array(list(X)) @ np.array(list(X)).T\n",
    "            ones = np.ones(XX.shape[0])\n",
    "            inv_XX = np.linalg.inv(XX)\n",
    "            lam = (inv_XX@ones) / (ones @ inv_XX @ ones)\n",
    "            y = np.array(list(X)).T @ lam\n",
    "            print(\"y\", y)\n",
    "\n",
    "            if np.sum(lam>0) == len(lam): # True for all items in lam\n",
    "                hat_x = y\n",
    "                hat_lam = lam\n",
    "                break # goto step1\n",
    "            else:\n",
    "                # step3\n",
    "                print(\"step3\")\n",
    "                hat_lam = np.array(hat_lam)\n",
    "                alpha = np.min(lam / (lam - hat_lam)) \n",
    "                dash_lam = (1-alpha) * lam + alpha*hat_lam\n",
    "                xd = np.array(list(X)).T @ dash_lam\n",
    "                print(\"xd\", xd)\n",
    "                Xd = set()\n",
    "                for xi, lam_i in zip(list(X), dash_lam):\n",
    "                    if lam_i > 0:\n",
    "                        Xd.add(tuple(xi))\n",
    "                X = Xd\n",
    "                hat_x = x\n",
    "                # goto step2"
   ]
  },
  {
   "cell_type": "code",
   "execution_count": 61,
   "metadata": {},
   "outputs": [
    {
     "name": "stdout",
     "output_type": "stream",
     "text": [
      "x0 [-8 20  0]\n",
      "step1\n",
      "x [ 0 16 -4]\n",
      "x_indexes [1 3 2]\n",
      "hat_lam [1 0]\n",
      "X {(0, 16, -4), (-8, 20, 0)}\n",
      "step2\n",
      "y [ 4. 14. -6.]\n",
      "step3\n",
      "xd [ 0. 16. -4.]\n",
      "step2\n",
      "y [ 0. 16. -4.]\n",
      "step1\n",
      "x [-4 16  0]\n",
      "x_indexes [3 1 2]\n",
      "hat_lam [1. 0.]\n",
      "X {(-4, 16, 0), (0, 16, -4)}\n",
      "step2\n",
      "y [-2. 16. -2.]\n",
      "step1\n",
      "x [ 0 16 -4]\n",
      "x_indexes [1 3 2]\n"
     ]
    },
    {
     "data": {
      "text/plain": [
       "(array([-2., 16., -2.]), array([1, 3]))"
      ]
     },
     "execution_count": 61,
     "metadata": {},
     "output_type": "execute_result"
    }
   ],
   "source": [
    "minimum_norm(f, [3, 2,1])"
   ]
  },
  {
   "cell_type": "code",
   "execution_count": null,
   "metadata": {},
   "outputs": [],
   "source": []
  },
  {
   "cell_type": "code",
   "execution_count": null,
   "metadata": {},
   "outputs": [],
   "source": []
  },
  {
   "cell_type": "code",
   "execution_count": 62,
   "metadata": {},
   "outputs": [],
   "source": [
    "import pylab as plt"
   ]
  },
  {
   "cell_type": "code",
   "execution_count": 63,
   "metadata": {},
   "outputs": [],
   "source": [
    "from mpl_toolkits.mplot3d import Axes3D"
   ]
  },
  {
   "cell_type": "code",
   "execution_count": 64,
   "metadata": {},
   "outputs": [],
   "source": [
    "plt.style.use('seaborn-whitegrid')\n",
    "plt.rcParams.update({'font.size': 15})"
   ]
  },
  {
   "cell_type": "code",
   "execution_count": 65,
   "metadata": {},
   "outputs": [
    {
     "name": "stdout",
     "output_type": "stream",
     "text": [
      "x0 [-4 24 -8]\n",
      "step1\n",
      "x [-4 16  0]\n",
      "x_indexes [3 1 2]\n",
      "hat_lam [1 0]\n",
      "X {(-4, 16, 0), (-4, 24, -8)}\n",
      "step2\n",
      "y [-4.  8.  8.]\n",
      "step3\n",
      "xd [-4. 16.  0.]\n",
      "step2\n",
      "y [-4. 16.  0.]\n",
      "step1\n",
      "x [ 0 16 -4]\n",
      "x_indexes [1 3 2]\n",
      "hat_lam [1. 0.]\n",
      "X {(0, 16, -4), (-4, 16, 0)}\n",
      "step2\n",
      "y [-2. 16. -2.]\n",
      "step1\n",
      "x [ 0 16 -4]\n",
      "x_indexes [1 3 2]\n"
     ]
    },
    {
     "data": {
      "image/png": "[encoded data removed]",
      "text/plain": [
       "<Figure size 432x288 with 1 Axes>"
      ]
     },
     "metadata": {},
     "output_type": "display_data"
    }
   ],
   "source": [
    "fig = plt.figure()\n",
    "ax = fig.add_subplot(111, projection='3d')\n",
    "ax.view_init(57, 32)\n",
    "ax.set_ylim(8,30)\n",
    "ax.set_zlim(-8,8)\n",
    "\n",
    "\n",
    "i = 0\n",
    "\n",
    "end_points = np.array([[-4, 16, 0],\n",
    "                       [0,  16,-4],\n",
    "                       [0,  20,-8],\n",
    "                       [-4, 24,-8],\n",
    "                       [-8, 24,-4],\n",
    "                       [-8, 20, 0],\n",
    "                       [-4, 16, 0]])\n",
    "\n",
    "ax.plot(end_points[:,0], end_points[:,1], end_points[:,2], marker=\"o\", c=\"gray\")\n",
    "\n",
    "\n",
    "X = set()\n",
    "# step0\n",
    "hat_x = get_endpoint([2,1,3], f)\n",
    "hat_lam = np.array([1])\n",
    "X.add(tuple(hat_x))\n",
    "print(\"x0\", hat_x)\n",
    "\n",
    "ax.plot([hat_x[0]], [hat_x[1]], [hat_x[2]], marker=\"o\", c=\"C0\")\n",
    "ax.text(hat_x[0], hat_x[1], hat_x[2], \"$\\hat x$\")\n",
    "plt.title(\"Step 0\")\n",
    "plt.savefig(\"%d.png\"%i)\n",
    "i+=1\n",
    "\n",
    "while True:\n",
    "    # step1\n",
    "    print(\"step1\")\n",
    "    x = get_endpoint(np.argsort(hat_x)+1, f) # greedy algorithm for linear programming (algorithm 2.3)\n",
    "    print(\"x\", x)\n",
    "    print(\"x_indexes\", np.argsort(hat_x)+1)\n",
    "    \n",
    "    ax.cla()\n",
    "    ax.set_ylim(8,30)\n",
    "    ax.set_zlim(-8,8)\n",
    "    ax.plot(end_points[:,0], end_points[:,1], end_points[:,2], marker=\"o\", c=\"gray\")\n",
    "    ax.plot([hat_x[0], x[0]], [hat_x[1],x[1]], [hat_x[2], x[2]], marker=\"o\", c=\"C1\")\n",
    "    ax.text(hat_x[0], hat_x[1], hat_x[2], \"$\\hat x$\")\n",
    "    ax.text(x[0], x[1], x[2], \"$x$\")\n",
    "\n",
    "    plt.title(\"Step 1\")\n",
    "    plt.savefig(\"%d.png\"%i)\n",
    "    i+=1\n",
    "    \n",
    "    if abs((x-hat_x) @ hat_x) < 1e-10:\n",
    "        x_star = hat_x\n",
    "        S_star = np.where(hat_x<0)[0] + 1\n",
    "        ax.cla()\n",
    "        ax.set_ylim(8,30)\n",
    "        ax.set_zlim(-8,8)\n",
    "        ax.plot(end_points[:,0], end_points[:,1], end_points[:,2], marker=\"o\", c=\"gray\")\n",
    "        ax.plot([hat_x[0]], [hat_x[1]], [hat_x[2]], marker=\"o\", c=\"C3\")\n",
    "        ax.text(hat_x[0], hat_x[1], hat_x[2], \"$x^*$\")\n",
    "        plt.title(\"Done\")\n",
    "        plt.savefig(\"%d.png\"%i)\n",
    "        i+=1\n",
    "\n",
    "        break\n",
    "    X.add(tuple(x))\n",
    "    hat_lam = np.r_[hat_lam, 0]\n",
    "    print(\"hat_lam\", hat_lam)\n",
    "    print(\"X\", X)\n",
    "\n",
    "    while True:\n",
    "        # step2\n",
    "        print(\"step2\")\n",
    "        XX = np.array(list(X)) @ np.array(list(X)).T\n",
    "        ones = np.ones(XX.shape[0])\n",
    "        inv_XX = np.linalg.inv(XX)\n",
    "        lam = (inv_XX@ones) / (ones @ inv_XX @ ones)\n",
    "        y = np.array(list(X)).T @ lam\n",
    "        print(\"y\", y)\n",
    "\n",
    "        if np.sum(lam>0) == len(lam): # True for all items in lam\n",
    "            hat_x = y\n",
    "            hat_lam = lam\n",
    "            ax.cla()\n",
    "            ax.set_ylim(8,30)\n",
    "            ax.set_zlim(-8,8)\n",
    "            ax.plot(end_points[:,0], end_points[:,1], end_points[:,2], marker=\"o\", c=\"gray\")\n",
    "            ax.plot([hat_x[0], x[0], y[0]], [hat_x[1],x[1], y[1]], [hat_x[2], x[2], y[2]], marker=\"o\", c=\"C2\")\n",
    "            ax.text(y[0], y[1], y[2], \"$\\hat x = y$\")\n",
    "\n",
    "            plt.title(\"Step 2\")\n",
    "            plt.savefig(\"%d.png\"%i)\n",
    "            i+=1\n",
    "            break # goto step1\n",
    "            \n",
    "        \n",
    "        else:\n",
    "            ax.cla()\n",
    "            ax.set_ylim(8,30)\n",
    "            ax.set_zlim(-8,8)\n",
    "            ax.plot(end_points[:,0], end_points[:,1], end_points[:,2], marker=\"o\", c=\"gray\")\n",
    "            ax.plot([hat_x[0], x[0], y[0]], [hat_x[1],x[1], y[1]], [hat_x[2], x[2], y[2]], marker=\"o\", c=\"C2\")\n",
    "            ax.plot([y[0]], [y[1]], [y[2]], marker=\"o\", c=\"C2\")\n",
    "            ax.text(hat_x[0], hat_x[1], hat_x[2], \"$\\hat x$\")\n",
    "            ax.text(y[0], y[1], y[2], \"$y$\")\n",
    "\n",
    "            plt.title(\"Step 2\")\n",
    "            plt.savefig(\"%d.png\"%i)\n",
    "            i+=1\n",
    "        \n",
    "            # step3\n",
    "            print(\"step3\")\n",
    "            hat_lam = np.array(hat_lam)\n",
    "            alpha = np.min(lam / (lam - hat_lam)) \n",
    "            dash_lam = (1-alpha) * lam + alpha*hat_lam\n",
    "            xd = np.array(list(X)).T @ dash_lam\n",
    "            print(\"xd\", xd)\n",
    "            Xd = set()\n",
    "            for xi, lam_i in zip(list(X), dash_lam):\n",
    "                if lam_i > 0:\n",
    "                    Xd.add(tuple(xi))\n",
    "            X = Xd\n",
    "            hat_x = x\n",
    "            \n",
    "            ax.cla()\n",
    "            ax.set_ylim(8,30)\n",
    "            ax.set_zlim(-8,8)\n",
    "            ax.plot(end_points[:,0], end_points[:,1], end_points[:,2], marker=\"o\", c=\"gray\")\n",
    "            ax.plot([hat_x[0]], [hat_x[1]], [hat_x[2]], marker=\"o\", c=\"C3\")\n",
    "            ax.text(hat_x[0], hat_x[1], hat_x[2], \"$x'$\")\n",
    "\n",
    "            plt.title(\"Step 3\")\n",
    "            plt.savefig(\"%d.png\"%i)\n",
    "            i+=1\n",
    "            # goto step2"
   ]
  },
  {
   "cell_type": "code",
   "execution_count": null,
   "metadata": {},
   "outputs": [],
   "source": []
  },
  {
   "cell_type": "code",
   "execution_count": null,
   "metadata": {},
   "outputs": [],
   "source": []
  },
  {
   "cell_type": "code",
   "execution_count": null,
   "metadata": {},
   "outputs": [],
   "source": []
  },
  {
   "cell_type": "code",
   "execution_count": null,
   "metadata": {},
   "outputs": [],
   "source": []
  },
  {
   "cell_type": "code",
   "execution_count": null,
   "metadata": {},
   "outputs": [],
   "source": []
  }
 ],
 "metadata": {
  "kernelspec": {
   "display_name": "Python 3",
   "language": "python",
   "name": "python3"
  },
  "language_info": {
   "codemirror_mode": {
    "name": "ipython",
    "version": 3
   },
   "file_extension": ".py",
   "mimetype": "text/x-python",
   "name": "python",
   "nbconvert_exporter": "python",
   "pygments_lexer": "ipython3",
   "version": "3.6.9"
  }
 },
 "nbformat": 4,
 "nbformat_minor": 4
}
