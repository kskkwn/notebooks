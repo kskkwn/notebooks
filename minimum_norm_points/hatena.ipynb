{
 "cells": [
  {
   "cell_type": "markdown",
   "metadata": {},
   "source": [
    "# はじめに\n",
    "\n",
    "最近，「劣モジュラ最適化と機械学習」の勉強会をやっている．\n",
    "この本の中に出てきた最小ノルム点アルゴリズムが面白そうだったので実装してみる．\n"
   ]
  },
  {
   "cell_type": "code",
   "execution_count": 1,
   "metadata": {},
   "outputs": [],
   "source": [
    "import numpy as np\n",
    "import pylab as plt"
   ]
  },
  {
   "cell_type": "markdown",
   "metadata": {},
   "source": [
    "\n",
    "# 問題\n",
    "\n",
    "$\\min_{x} \\sum_{i=1}^n x_i^2, s.t., x\\in B(f)$\n",
    "\n",
    "\n",
    "今回は本の内容に従って，以下の劣モジュラ関数を考える．\n",
    "\n",
    "$f(S) = 2|S|(5-|S|) - |S\\cap \\{1,3\\}| + 2|S \\cap \\{2\\}|, (\\forall S \\subseteq \\{1,2,3\\})$\n"
   ]
  },
  {
   "cell_type": "code",
   "execution_count": 1,
   "metadata": {},
   "outputs": [],
   "source": [
    "def f(S):\n",
    "    return 2*len(S) * (5 - len(S)) - 8 * len(S & set([1,3])) + 16 * len((S & set([2])))"
   ]
  },
  {
   "cell_type": "markdown",
   "metadata": {},
   "source": [
    "ここで，$2^V$は集合$V$の要素のうち，\n",
    "\n",
    "# 劣モジュラ多面体と基多面体\n",
    "$B(f) = \\{x\\in \\mathbb R^n: \\sum_{i\\in S} x_i = f(S) (\\forall S \\subseteq V)\\}$\n",
    "\n",
    "\n",
    "\n",
    "この関数に対して，\n"
   ]
  },
  {
   "cell_type": "code",
   "execution_count": null,
   "metadata": {},
   "outputs": [],
   "source": []
  }
 ],
 "metadata": {
  "kernelspec": {
   "display_name": "Python 3",
   "language": "python",
   "name": "python3"
  },
  "language_info": {
   "codemirror_mode": {
    "name": "ipython",
    "version": 3
   },
   "file_extension": ".py",
   "mimetype": "text/x-python",
   "name": "python",
   "nbconvert_exporter": "python",
   "pygments_lexer": "ipython3",
   "version": "3.6.9"
  }
 },
 "nbformat": 4,
 "nbformat_minor": 4
}
