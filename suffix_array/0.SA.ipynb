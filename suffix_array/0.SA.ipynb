{
 "cells": [
  {
   "cell_type": "markdown",
   "metadata": {},
   "source": [
    "# Suffix Array\n",
    "まずはpythonのソートを使う"
   ]
  },
  {
   "cell_type": "code",
   "execution_count": 1,
   "metadata": {
    "collapsed": true
   },
   "outputs": [],
   "source": [
    "s = \"abracadabra\""
   ]
  },
  {
   "cell_type": "code",
   "execution_count": 2,
   "metadata": {
    "collapsed": true
   },
   "outputs": [],
   "source": [
    "def SA(s):\n",
    "    s += \"$\"\n",
    "    sa = [s[i:] for i,_ in enumerate(s)]\n",
    "    sa.sort()\n",
    "    return sa"
   ]
  },
  {
   "cell_type": "code",
   "execution_count": 3,
   "metadata": {},
   "outputs": [
    {
     "data": {
      "text/plain": [
       "['$',\n",
       " 'a$',\n",
       " 'abra$',\n",
       " 'abracadabra$',\n",
       " 'acadabra$',\n",
       " 'adabra$',\n",
       " 'bra$',\n",
       " 'bracadabra$',\n",
       " 'cadabra$',\n",
       " 'dabra$',\n",
       " 'ra$',\n",
       " 'racadabra$']"
      ]
     },
     "execution_count": 3,
     "metadata": {},
     "output_type": "execute_result"
    }
   ],
   "source": [
    "sa = SA(s)\n",
    "sa"
   ]
  },
  {
   "cell_type": "code",
   "execution_count": 4,
   "metadata": {
    "collapsed": true
   },
   "outputs": [],
   "source": [
    "def binary_search(sa, query):\n",
    "    low_i = 0\n",
    "    high_i = len(sa)\n",
    "    s_size = len(query)\n",
    "    \n",
    "    while low_i<=high_i:\n",
    "        i = (low_i + high_i) // 2\n",
    "        if query == sa[i][:s_size]:\n",
    "            break\n",
    "        elif query > sa[i]:\n",
    "            low_i = i + 1\n",
    "        elif query < sa[i]:\n",
    "            high_i = i - 1\n",
    "    else:\n",
    "        return None\n",
    "    return i"
   ]
  },
  {
   "cell_type": "code",
   "execution_count": 5,
   "metadata": {},
   "outputs": [
    {
     "name": "stdout",
     "output_type": "stream",
     "text": [
      "racadabra$\n"
     ]
    }
   ],
   "source": [
    "index = binary_search(sa, \"r\")\n",
    "print(sa[index])"
   ]
  },
  {
   "cell_type": "markdown",
   "metadata": {},
   "source": [
    "# SA with packet sort\n",
    "http://shogo82148.github.io/homepage/memo/algorithm/suffix-array/bucket-sort.html"
   ]
  },
  {
   "cell_type": "code",
   "execution_count": 6,
   "metadata": {},
   "outputs": [],
   "source": [
    "def SA_packet_sort(s):\n",
    "    C = {chr(c):0 for c in range(ord(\"a\"), ord(\"z\")+1)}\n",
    "    print(C)"
   ]
  }
 ],
 "metadata": {
  "anaconda-cloud": {},
  "kernelspec": {
   "display_name": "Python [conda root]",
   "language": "python",
   "name": "conda-root-py"
  },
  "language_info": {
   "codemirror_mode": {
    "name": "ipython",
    "version": 3
   },
   "file_extension": ".py",
   "mimetype": "text/x-python",
   "name": "python",
   "nbconvert_exporter": "python",
   "pygments_lexer": "ipython3",
   "version": "3.5.4"
  }
 },
 "nbformat": 4,
 "nbformat_minor": 1
}
