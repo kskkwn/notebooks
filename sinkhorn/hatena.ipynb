{
 "cells": [
  {
   "cell_type": "markdown",
   "metadata": {},
   "source": [
    "# Computational Optimal Transport\n",
    "\n",
    "## はじめに\n",
    "\n",
    "\n",
    "\n",
    "## Sinkhornの更新式\n",
    "$u^{(l+1)} \\equiv \\frac{a}{Kv}$, $v^{(l+1)} \\equiv \\frac{b}{K^\\top u}$"
   ]
  },
  {
   "cell_type": "code",
   "execution_count": 1,
   "metadata": {
    "collapsed": true
   },
   "outputs": [],
   "source": [
    "import numpy as np\n",
    "import pylab as plt"
   ]
  },
  {
   "cell_type": "code",
   "execution_count": 2,
   "metadata": {
    "collapsed": true
   },
   "outputs": [],
   "source": [
    "from scipy.stats import norm\n",
    "\n",
    "\n",
    "t = np.arange(0, 1, 0.01)\n",
    "mean = 0.3\n",
    "std = 0.1\n",
    "\n",
    "a = norm.pdf(t, mean, np.abs(std))\n",
    "\n",
    "\n",
    "t = np.arange(0, 1, 0.02)\n",
    "\n",
    "mean1 = 0.2\n",
    "std1 = 0.05\n",
    "\n",
    "mean2 = 0.7\n",
    "std2 = 0.1\n",
    "\n",
    "b = 0.4 * norm.pdf(t, mean1, np.abs(std1)) + 0.6 * norm.pdf(t, mean2, np.abs(std2))"
   ]
  },
  {
   "cell_type": "code",
   "execution_count": 3,
   "metadata": {},
   "outputs": [
    {
     "data": {
      "image/png": "[encoded data removed]",
      "text/plain": [
       "<Figure size 432x288 with 1 Axes>"
      ]
     },
     "metadata": {},
     "output_type": "display_data"
    }
   ],
   "source": [
    "plt.plot(a, marker=\".\")\n",
    "plt.plot(b, marker=\".\")\n",
    "\n",
    "plt.show()"
   ]
  },
  {
   "cell_type": "markdown",
   "metadata": {},
   "source": [
    "$u^{(l+1)} \\equiv \\frac{a}{Kv}$, $v^{(l+1)} \\equiv \\frac{b}{K^\\top u}$\n",
    "\n",
    "$f = \\epsilon \\log a - \\epsilon \\log K e^{g^{(l)}/\\epsilon}$\n",
    "\n",
    "$g = \\epsilon \\log b - \\epsilon \\log K^\\top e^{g^{(l)}/\\epsilon}$"
   ]
  },
  {
   "cell_type": "code",
   "execution_count": 4,
   "metadata": {
    "collapsed": true
   },
   "outputs": [],
   "source": [
    "C = (np.expand_dims(a, 0) - np.expand_dims(b, 1))**2"
   ]
  },
  {
   "cell_type": "code",
   "execution_count": 126,
   "metadata": {
    "collapsed": true
   },
   "outputs": [],
   "source": [
    "n = a.shape[0]\n",
    "m = b.shape[0]\n",
    "\n",
    "epsilon =  10\n",
    "\n",
    "K = np.exp(-C/epsilon).transpose()"
   ]
  },
  {
   "cell_type": "code",
   "execution_count": 127,
   "metadata": {
    "collapsed": true
   },
   "outputs": [],
   "source": [
    "from scipy.misc import logsumexp"
   ]
  },
  {
   "cell_type": "code",
   "execution_count": 128,
   "metadata": {
    "collapsed": true
   },
   "outputs": [],
   "source": [
    "import torch\n",
    "import torch.nn"
   ]
  },
  {
   "cell_type": "code",
   "execution_count": 129,
   "metadata": {
    "collapsed": true
   },
   "outputs": [],
   "source": [
    "from sklearn.utils.extmath import logsumexp"
   ]
  },
  {
   "cell_type": "code",
   "execution_count": 130,
   "metadata": {
    "collapsed": true
   },
   "outputs": [],
   "source": [
    "def min_epsilon(z, epsilon):\n",
    "    z_ = np.min(z, axis=0)\n",
    "    return z_ - epsilon * np.log(np.sum(np.exp(-z + z_ )/epsilon, axis=0))"
   ]
  },
  {
   "cell_type": "code",
   "execution_count": 131,
   "metadata": {
    "collapsed": true
   },
   "outputs": [],
   "source": [
    "f = np.ones(n)\n",
    "g = np.zeros(m)"
   ]
  },
  {
   "cell_type": "code",
   "execution_count": 132,
   "metadata": {},
   "outputs": [],
   "source": [
    "for i in range(20):\n",
    "    S = C - np.expand_dims(f,0) - np.expand_dims(g, 1)\n",
    "    f = min_epsilon(S, epsilon=epsilon) + f + epsilon * np.log(a)\n",
    "    S = C - np.expand_dims(f,0) - np.expand_dims(g, 1)\n",
    "    g = min_epsilon(S.transpose(), epsilon=epsilon) + g + epsilon * np.log(b)"
   ]
  },
  {
   "cell_type": "code",
   "execution_count": 133,
   "metadata": {},
   "outputs": [
    {
     "data": {
      "text/plain": [
       "array([250.79662538, 253.70690696, 256.50415339, 259.18438691,\n",
       "       261.74244338, 264.17162071, 266.46324182, 268.60612825,\n",
       "       270.71309179, 272.69646601, 274.60385861, 276.35248185,\n",
       "       277.89264718, 279.94072822, 282.62256668, 285.13806896,\n",
       "       288.29848674, 291.27354223, 293.99358672, 296.43742605,\n",
       "       298.6096008 , 300.53389581, 302.24160808, 303.76017449,\n",
       "       305.10601623, 306.28239592, 307.28111379, 308.08638163,\n",
       "       308.67949421, 309.04332981, 309.166019  , 309.04332981,\n",
       "       308.67949421, 308.08638163, 307.28111379, 306.28239592,\n",
       "       305.10601623, 303.76017449, 302.24160808, 300.53389581,\n",
       "       298.6096008 , 296.43742605, 293.99358672, 291.27354223,\n",
       "       288.29848674, 285.13806896, 282.62256668, 279.94072822,\n",
       "       277.89264718, 276.35248185, 274.60385861, 272.69646601,\n",
       "       270.71309179, 268.60612825, 266.46324182, 264.17162071,\n",
       "       261.74244338, 259.18438691, 256.50415339, 253.70690696,\n",
       "       250.79662538, 247.7763754 , 244.64852437, 241.41490112,\n",
       "       238.07691777, 234.63566236, 231.09196992, 227.44647768,\n",
       "       223.69966841, 219.85190474, 215.90345647, 211.85452226,\n",
       "       207.70524678, 203.45573425, 199.10605883, 194.65627271,\n",
       "       190.10641218, 185.45650219, 180.70655967, 175.85659601,\n",
       "       170.90661873, 165.8566328 , 160.70664142, 155.45664665,\n",
       "       150.10664978, 144.65665164, 139.10665274, 133.45665338,\n",
       "       127.70665374, 121.85665395, 115.90665407, 109.85665414,\n",
       "       103.70665417,  97.45665419,  91.1066542 ,  84.65665421,\n",
       "        78.10665421,  71.45665421,  64.70665421,  57.85665421])"
      ]
     },
     "execution_count": 133,
     "metadata": {},
     "output_type": "execute_result"
    }
   ],
   "source": [
    "f"
   ]
  },
  {
   "cell_type": "code",
   "execution_count": 134,
   "metadata": {},
   "outputs": [
    {
     "data": {
      "text/plain": [
       "array([-366.25655679, -351.0978764 , -337.64985505, -325.97235887,\n",
       "       -316.47685945, -309.49169047, -303.76670864, -298.22815518,\n",
       "       -294.64632928, -292.3598321 , -291.49213765, -292.35975965,\n",
       "       -294.64609775, -298.22726869, -303.76265434, -309.47806787,\n",
       "       -316.39388388, -325.43610301, -334.4267879 , -337.58437555,\n",
       "       -333.99350606, -328.69183244, -323.58175859, -318.99357855,\n",
       "       -315.03238835, -311.73234702, -308.83012122, -306.30592646,\n",
       "       -303.64078653, -300.98354688, -298.85794633, -297.20534359,\n",
       "       -295.95834986, -295.07242603, -294.53549059, -294.35465389,\n",
       "       -294.53549059, -295.07242603, -295.95834986, -297.20534359,\n",
       "       -298.85794633, -300.98354688, -303.64078653, -306.30592646,\n",
       "       -308.83012128, -311.73234825, -315.03240744, -318.99386387,\n",
       "       -323.5854069 , -328.73229638])"
      ]
     },
     "execution_count": 134,
     "metadata": {},
     "output_type": "execute_result"
    }
   ],
   "source": [
    "g"
   ]
  },
  {
   "cell_type": "code",
   "execution_count": 135,
   "metadata": {},
   "outputs": [],
   "source": [
    "# for i in range(20):    \n",
    "#     g = epsilon * np.log(b) - epsilon * np.log(K.transpose() @ np.exp(f))\n",
    "#     f = epsilon * np.log(a) - epsilon * np.log(K @ np.exp(g))"
   ]
  },
  {
   "cell_type": "code",
   "execution_count": 136,
   "metadata": {},
   "outputs": [],
   "source": [
    "P = np.diag(np.exp(f/epsilon)) @ K @ np.diag(np.exp(g/epsilon))"
   ]
  },
  {
   "cell_type": "code",
   "execution_count": 137,
   "metadata": {},
   "outputs": [
    {
     "data": {
      "image/png": "[encoded data removed]",
      "text/plain": [
       "<Figure size 432x288 with 2 Axes>"
      ]
     },
     "metadata": {},
     "output_type": "display_data"
    }
   ],
   "source": [
    "import seaborn as sns\n",
    "\n",
    "sns.heatmap(P, cmap=\"Blues\")\n",
    "plt.show()"
   ]
  },
  {
   "cell_type": "code",
   "execution_count": 138,
   "metadata": {},
   "outputs": [
    {
     "data": {
      "text/plain": [
       "array([[9.67292147e-06, 4.40458016e-05, 1.69038053e-04, ...,\n",
       "        1.09113731e-03, 6.89863793e-04, 4.12378844e-04],\n",
       "       [1.29384549e-05, 5.89161454e-05, 2.26116897e-04, ...,\n",
       "        1.46009201e-03, 9.22984356e-04, 5.51673915e-04],\n",
       "       [1.71099559e-05, 7.79125320e-05, 2.99040618e-04, ...,\n",
       "        1.93185250e-03, 1.22095016e-03, 7.29672652e-04],\n",
       "       ...,\n",
       "       [1.57399321e-13, 7.16696013e-13, 2.75017530e-12, ...,\n",
       "        1.77341950e-11, 1.12175740e-11, 6.70753381e-12],\n",
       "       [8.01408750e-14, 3.64910377e-13, 1.40026941e-12, ...,\n",
       "        9.02947924e-12, 5.71149984e-12, 3.41518391e-12],\n",
       "       [4.03982321e-14, 1.83947756e-13, 7.05862129e-13, ...,\n",
       "        4.55167226e-12, 2.87911127e-12, 1.72156084e-12]])"
      ]
     },
     "execution_count": 138,
     "metadata": {},
     "output_type": "execute_result"
    }
   ],
   "source": [
    "P"
   ]
  },
  {
   "cell_type": "markdown",
   "metadata": {},
   "source": [
    "4.43の式 マイナスfじゃなくてプラスf"
   ]
  },
  {
   "cell_type": "code",
   "execution_count": null,
   "metadata": {
    "collapsed": true
   },
   "outputs": [],
   "source": []
  },
  {
   "cell_type": "code",
   "execution_count": null,
   "metadata": {
    "collapsed": true
   },
   "outputs": [],
   "source": []
  },
  {
   "cell_type": "code",
   "execution_count": null,
   "metadata": {
    "collapsed": true
   },
   "outputs": [],
   "source": []
  },
  {
   "cell_type": "code",
   "execution_count": null,
   "metadata": {
    "collapsed": true
   },
   "outputs": [],
   "source": []
  },
  {
   "cell_type": "code",
   "execution_count": null,
   "metadata": {
    "collapsed": true
   },
   "outputs": [],
   "source": []
  },
  {
   "cell_type": "code",
   "execution_count": null,
   "metadata": {
    "collapsed": true
   },
   "outputs": [],
   "source": []
  },
  {
   "cell_type": "code",
   "execution_count": null,
   "metadata": {
    "collapsed": true
   },
   "outputs": [],
   "source": []
  },
  {
   "cell_type": "code",
   "execution_count": null,
   "metadata": {
    "collapsed": true
   },
   "outputs": [],
   "source": []
  },
  {
   "cell_type": "code",
   "execution_count": null,
   "metadata": {
    "collapsed": true
   },
   "outputs": [],
   "source": []
  }
 ],
 "metadata": {
  "kernelspec": {
   "display_name": "ccann",
   "language": "python",
   "name": "python3"
  },
  "language_info": {
   "codemirror_mode": {
    "name": "ipython",
    "version": 3
   },
   "file_extension": ".py",
   "mimetype": "text/x-python",
   "name": "python",
   "nbconvert_exporter": "python",
   "pygments_lexer": "ipython3",
   "version": "3.6.0"
  }
 },
 "nbformat": 4,
 "nbformat_minor": 2
}
